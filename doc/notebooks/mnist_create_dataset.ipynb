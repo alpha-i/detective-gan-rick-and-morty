{
 "cells": [
  {
   "cell_type": "code",
   "execution_count": 1,
   "metadata": {},
   "outputs": [
    {
     "name": "stderr",
     "output_type": "stream",
     "text": [
      "C:\\Users\\wtais\\Anaconda3\\envs\\rickmorty\\lib\\site-packages\\h5py\\__init__.py:36: FutureWarning: Conversion of the second argument of issubdtype from `float` to `np.floating` is deprecated. In future, it will be treated as `np.float64 == np.dtype(float).type`.\n",
      "  from ._conv import register_converters as _register_converters\n"
     ]
    }
   ],
   "source": [
    "import tensorflow as tf\n",
    "import numpy as np\n",
    "\n",
    "import h5py    \n",
    "\n",
    "mnist = tf.keras.datasets.mnist\n",
    "(x_train_mnist, y_train_mnist),(x_test_mnist, y_test_mnist) = mnist.load_data()\n",
    "x_train_mnist, x_test_mnist = x_train_mnist / 255.0, x_test_mnist / 255.0\n",
    "x = np.concatenate((x_train_mnist,x_test_mnist))\n",
    "y = np.concatenate((y_train_mnist,y_test_mnist))"
   ]
  },
  {
   "cell_type": "code",
   "execution_count": 2,
   "metadata": {},
   "outputs": [],
   "source": [
    "def splitMNIST(x, y, anom_class, test_ratio=0.2):   \n",
    "    \"\"\"\n",
    "    :param x: 28 by 28 input data.\n",
    "    :param y: Label for each input data (isn't used)\n",
    "    :param test_ratio: how much of NORMAL x is to be held out as test data\n",
    "    \"\"\"\n",
    "    x_normal = x[y!=anom_class]\n",
    "    x_anomaly = x[y==anom_class]\n",
    "    \n",
    "    rand_indx = np.arange(x_normal.shape[0])\n",
    "    np.random.shuffle(rand_indx)\n",
    "    x_normal = x_normal[rand_indx]\n",
    "    test_normal_size = int((1-test_ratio)*x_normal.shape[0])\n",
    "    x_train_normal, x_test_normal = x_normal[:test_normal_size,:,:], x_normal[test_normal_size:,:,:]\n",
    "\n",
    "    return x_train_normal, x_test_normal, x_anomaly"
   ]
  },
  {
   "cell_type": "code",
   "execution_count": 4,
   "metadata": {},
   "outputs": [
    {
     "name": "stdout",
     "output_type": "stream",
     "text": [
      "Preparing data set where the anomaly class is  0\n",
      "Preparing data set where the anomaly class is  1\n",
      "Preparing data set where the anomaly class is  2\n",
      "Preparing data set where the anomaly class is  3\n",
      "Preparing data set where the anomaly class is  4\n",
      "Preparing data set where the anomaly class is  5\n",
      "Preparing data set where the anomaly class is  6\n",
      "Preparing data set where the anomaly class is  7\n",
      "Preparing data set where the anomaly class is  8\n",
      "Preparing data set where the anomaly class is  9\n"
     ]
    }
   ],
   "source": [
    "# Train and test set\n",
    "for i in range(10):\n",
    "    print('Preparing data set where the anomaly class is ',i)\n",
    "    x_train_normal, x_test_normal, x_test_abnormal = splitMNIST(x, y, anom_class=i, test_ratio=0.2)\n",
    "    SAMPLE_TYPES = ['NORMAL', 'ABNORMAL']\n",
    "    samples_train = {}\n",
    "    samples_test = {}\n",
    "\n",
    "    for sample_type in SAMPLE_TYPES:\n",
    "      if sample_type is 'NORMAL':\n",
    "        samples_train[sample_type] = x_train_normal\n",
    "        samples_test[sample_type] = x_test_normal\n",
    "      elif sample_type is 'ABNORMAL':\n",
    "        samples_test[sample_type] = x_test_abnormal        \n",
    "\n",
    "    h_train = h5py.File('mnist_data_train_abnormalclass-{}.hd5'.format(i))\n",
    "    h_test = h5py.File('mnist_data_test_abnormalclass-{}.hd5'.format(i))\n",
    "    \n",
    "    for k, v in samples_train.items():\n",
    "        h_train.create_dataset(k, data=np.array(v, dtype=np.int8))\n",
    "        \n",
    "    for k, v in samples_test.items():\n",
    "        h_test.create_dataset(k, data=np.array(v, dtype=np.int8))"
   ]
  },
  {
   "cell_type": "code",
   "execution_count": 7,
   "metadata": {},
   "outputs": [],
   "source": [
    "h5file = h5py.File('mnist_data_test_abnormalclass-{}.hd5'.format(0), 'r')"
   ]
  },
  {
   "cell_type": "code",
   "execution_count": 9,
   "metadata": {},
   "outputs": [
    {
     "data": {
      "text/plain": [
       "6903"
      ]
     },
     "execution_count": 9,
     "metadata": {},
     "output_type": "execute_result"
    }
   ],
   "source": [
    "len(list(h5file['ABNORMAL']))"
   ]
  },
  {
   "cell_type": "code",
   "execution_count": null,
   "metadata": {},
   "outputs": [],
   "source": []
  }
 ],
 "metadata": {
  "kernelspec": {
   "display_name": "Python 3",
   "language": "python",
   "name": "python3"
  },
  "language_info": {
   "codemirror_mode": {
    "name": "ipython",
    "version": 3
   },
   "file_extension": ".py",
   "mimetype": "text/x-python",
   "name": "python",
   "nbconvert_exporter": "python",
   "pygments_lexer": "ipython3",
   "version": "3.6.2"
  }
 },
 "nbformat": 4,
 "nbformat_minor": 2
}
