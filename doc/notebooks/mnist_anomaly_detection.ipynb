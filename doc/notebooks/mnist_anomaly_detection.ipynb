{
 "cells": [
  {
   "cell_type": "markdown",
   "metadata": {},
   "source": [
    "## Load libraries"
   ]
  },
  {
   "cell_type": "code",
   "execution_count": 1,
   "metadata": {},
   "outputs": [
    {
     "name": "stderr",
     "output_type": "stream",
     "text": [
      "/opt/anaconda/envs/ai/lib/python3.6/site-packages/h5py/__init__.py:36: FutureWarning: Conversion of the second argument of issubdtype from `float` to `np.floating` is deprecated. In future, it will be treated as `np.float64 == np.dtype(float).type`.\n",
      "  from ._conv import register_converters as _register_converters\n",
      "/opt/anaconda/envs/ai/lib/python3.6/importlib/_bootstrap.py:205: RuntimeWarning: compiletime version 3.5 of module 'tensorflow.python.framework.fast_tensor_util' does not match runtime version 3.6\n",
      "  return f(*args, **kwds)\n",
      "DEBUG:matplotlib:CACHEDIR=/home/ubuntu/.cache/matplotlib\n",
      "DEBUG:matplotlib.font_manager:Using fontManager instance from /home/ubuntu/.cache/matplotlib/fontList.json\n",
      "DEBUG:matplotlib.backends:backend agg version v2.2\n"
     ]
    },
    {
     "name": "stdout",
     "output_type": "stream",
     "text": [
      "Enabling weight norm\n",
      "Uppercase local vars:\n",
      "\tBATCH_SIZE: 50\n",
      "\tCRITIC_ITERS: 5\n",
      "\tDEFAULT_FIT_EPOCHS: 1000\n",
      "\tDEFAULT_LEARN_RATE: 0.0001\n",
      "\tDEFAULT_TRAIN_ITERS: 5000\n",
      "\tDEFAULT_Z_DIM: 200\n",
      "\tDIAGNOSIS_LEARN_RATE: 0.01\n",
      "\tDIM: 64\n",
      "\tDISC_FILTER_SIZE: 5\n",
      "\tINIT_KERNEL: <tensorflow.python.ops.init_ops.RandomNormal object at 0x7f880498be48>\n",
      "\tLAMBDA: 10\n",
      "\tLAMBDA_2: 2.0\n",
      "\tOUTPUT_DIM: 784\n"
     ]
    }
   ],
   "source": [
    "import os\n",
    "import pandas as pd\n",
    "import numpy as np\n",
    "import h5py\n",
    "from sklearn.metrics import classification_report\n",
    "\n",
    "from alphai_watson.performance import GANPerformanceAnalysis\n",
    "from alphai_watson.transformer import NullTransformer\n",
    "from alphai_rickandmorty_oracle.datasource.mnist import MNISTDataSource\n",
    "from alphai_rickandmorty_oracle.detective import RickAndMortyDetective\n",
    "from alphai_rickandmorty_oracle.model_mnist import RickAndMorty\n",
    "\n",
    "from matplotlib import pyplot as plt"
   ]
  },
  {
   "cell_type": "markdown",
   "metadata": {},
   "source": [
    "## Define MNIST Datasource"
   ]
  },
  {
   "cell_type": "code",
   "execution_count": 2,
   "metadata": {},
   "outputs": [
    {
     "name": "stderr",
     "output_type": "stream",
     "text": [
      "DEBUG:root:Start file parsing.\n",
      "DEBUG:root:Processing sample type NORMAL.\n",
      "DEBUG:root:End file parsing.\n",
      "DEBUG:root:Start file parsing.\n",
      "DEBUG:root:Processing sample type ABNORMAL.\n",
      "DEBUG:root:Processing sample type NORMAL.\n",
      "DEBUG:root:End file parsing.\n"
     ]
    }
   ],
   "source": [
    "file_path = '../../tests/resources'\n",
    "\n",
    "abnormal_digit = 9\n",
    "\n",
    "# Train and test data file\n",
    "train_data_file = os.path.join(file_path, 'mnist_data_train_abnormalclass-{}.hd5'.format(abnormal_digit))\n",
    "test_data_file = os.path.join(file_path, 'mnist_data_test_abnormalclass-{}.hd5'.format(abnormal_digit))\n",
    "\n",
    "# Model parameters\n",
    "n_sensors = 28\n",
    "n_timesteps = 784 // n_sensors\n",
    "\n",
    "train_data_source = MNISTDataSource(source_file=train_data_file, \n",
    "                                    transformer=NullTransformer(number_of_timesteps=n_timesteps,\n",
    "                                                                number_of_sensors=n_sensors))\n",
    "test_data_source = MNISTDataSource(source_file=test_data_file,\n",
    "                                   transformer=NullTransformer(number_of_timesteps=n_timesteps,\n",
    "                                                               number_of_sensors=n_sensors))\n",
    "\n",
    "train_data = train_data_source.get_train_data('NORMAL')"
   ]
  },
  {
   "cell_type": "markdown",
   "metadata": {},
   "source": [
    "### Plot input images to verify correctness"
   ]
  },
  {
   "cell_type": "code",
   "execution_count": 3,
   "metadata": {},
   "outputs": [
    {
     "name": "stderr",
     "output_type": "stream",
     "text": [
      "DEBUG:matplotlib.backends:backend module://ipykernel.pylab.backend_inline version unknown\n",
      "DEBUG:matplotlib.backends:backend module://ipykernel.pylab.backend_inline version unknown\n",
      "DEBUG:matplotlib.font_manager:findfont: Matching :family=sans-serif:style=normal:variant=normal:weight=normal:stretch=normal:size=10.0 to DejaVu Sans ('/opt/anaconda/envs/ai/lib/python3.6/site-packages/matplotlib/mpl-data/fonts/ttf/DejaVuSans.ttf') with score of 0.050000\n"
     ]
    },
    {
     "data": {
      "image/png": "[encoded data removed]",
      "text/plain": [
       "<Figure size 432x288 with 1 Axes>"
      ]
     },
     "metadata": {},
     "output_type": "display_data"
    }
   ],
   "source": [
    "%matplotlib inline\n",
    "# First row is first image\n",
    "idx = len(train_data.data)\n",
    "image = train_data.data[np.random.randint(0, idx)]\n",
    "\n",
    "# h_train = h5py.File(test_data_file)\n",
    "# image = np.array(h_train.get('ABNORMAL'))[156]\n",
    "\n",
    "# 784 columns correspond to 28x28 image\n",
    "plottable_image = np.reshape(image, (28, 28))\n",
    "\n",
    "# Plot the image\n",
    "plt.imshow(plottable_image, cmap='gray')\n",
    "plt.show()"
   ]
  },
  {
   "cell_type": "markdown",
   "metadata": {},
   "source": [
    "## Define Model"
   ]
  },
  {
   "cell_type": "code",
   "execution_count": 4,
   "metadata": {
    "scrolled": true
   },
   "outputs": [
    {
     "name": "stderr",
     "output_type": "stream",
     "text": [
      "DEBUG:root:Starting session\n",
      "DEBUG:root:Start training loop...\n",
      "INFO:root:Initialising Model\n",
      "INFO:root:Training iteration 0 of 10000\n"
     ]
    },
    {
     "name": "stdout",
     "output_type": "stream",
     "text": [
      "iter 0\ttrain disc cost\t1.3727765083312988\ttime\t0.9271237850189209\n",
      "iter 1\ttrain disc cost\t1.327879548072815\ttime\t0.23893332481384277\n",
      "iter 2\ttrain disc cost\t1.3083566427230835\ttime\t0.1567244529724121\n",
      "iter 3\ttrain disc cost\t1.2761428356170654\ttime\t0.14671730995178223\n",
      "iter 4\ttrain disc cost\t1.2625622749328613\ttime\t0.13574433326721191\n"
     ]
    },
    {
     "name": "stderr",
     "output_type": "stream",
     "text": [
      "INFO:root:Saving fake samples to png.\n"
     ]
    },
    {
     "name": "stdout",
     "output_type": "stream",
     "text": [
      "iter 99\ttrain disc cost\t0.3146797716617584\ttime\t0.11887160100434956\n"
     ]
    },
    {
     "name": "stderr",
     "output_type": "stream",
     "text": [
      "INFO:root:Saving fake samples to png.\n"
     ]
    },
    {
     "name": "stdout",
     "output_type": "stream",
     "text": [
      "iter 199\ttrain disc cost\t0.0017414398025721312\ttime\t0.111902756690979\n"
     ]
    },
    {
     "name": "stderr",
     "output_type": "stream",
     "text": [
      "INFO:root:Saving fake samples to png.\n"
     ]
    },
    {
     "name": "stdout",
     "output_type": "stream",
     "text": [
      "iter 299\ttrain disc cost\t4.299502688809298e-05\ttime\t0.11447509765625\n"
     ]
    },
    {
     "name": "stderr",
     "output_type": "stream",
     "text": [
      "INFO:root:Saving fake samples to png.\n"
     ]
    },
    {
     "name": "stdout",
     "output_type": "stream",
     "text": [
      "iter 399\ttrain disc cost\t1.977225110749714e-06\ttime\t0.11637592077255249\n"
     ]
    },
    {
     "name": "stderr",
     "output_type": "stream",
     "text": [
      "INFO:root:Saving fake samples to png.\n"
     ]
    },
    {
     "name": "stdout",
     "output_type": "stream",
     "text": [
      "iter 499\ttrain disc cost\t4.931007993036474e-07\ttime\t0.11156626701354981\n"
     ]
    },
    {
     "name": "stderr",
     "output_type": "stream",
     "text": [
      "INFO:root:Saving fake samples to png.\n"
     ]
    },
    {
     "name": "stdout",
     "output_type": "stream",
     "text": [
      "iter 599\ttrain disc cost\t1.717810675927467e-07\ttime\t0.1169168734550476\n"
     ]
    },
    {
     "name": "stderr",
     "output_type": "stream",
     "text": [
      "INFO:root:Saving fake samples to png.\n"
     ]
    },
    {
     "name": "stdout",
     "output_type": "stream",
     "text": [
      "iter 699\ttrain disc cost\t6.399693575076526e-08\ttime\t0.11489486932754517\n"
     ]
    },
    {
     "name": "stderr",
     "output_type": "stream",
     "text": [
      "INFO:root:Saving fake samples to png.\n"
     ]
    },
    {
     "name": "stdout",
     "output_type": "stream",
     "text": [
      "iter 799\ttrain disc cost\t3.953325133920771e-08\ttime\t0.11209239721298218\n"
     ]
    },
    {
     "name": "stderr",
     "output_type": "stream",
     "text": [
      "INFO:root:Saving fake samples to png.\n"
     ]
    },
    {
     "name": "stdout",
     "output_type": "stream",
     "text": [
      "iter 899\ttrain disc cost\t3.166617190686338e-08\ttime\t0.11755348443984985\n"
     ]
    },
    {
     "name": "stderr",
     "output_type": "stream",
     "text": [
      "INFO:root:Saving fake samples to png.\n",
      "INFO:root:Training iteration 1000 of 10000\n"
     ]
    },
    {
     "name": "stdout",
     "output_type": "stream",
     "text": [
      "iter 999\ttrain disc cost\t2.8319941520749126e-06\ttime\t0.11359975814819336\n"
     ]
    },
    {
     "name": "stderr",
     "output_type": "stream",
     "text": [
      "INFO:root:Saving fake samples to png.\n"
     ]
    },
    {
     "name": "stdout",
     "output_type": "stream",
     "text": [
      "iter 1099\ttrain disc cost\t2.2069622218623408e-07\ttime\t0.11312572240829467\n"
     ]
    },
    {
     "name": "stderr",
     "output_type": "stream",
     "text": [
      "INFO:root:Saving fake samples to png.\n"
     ]
    },
    {
     "name": "stdout",
     "output_type": "stream",
     "text": [
      "iter 1199\ttrain disc cost\t1.3885406247027277e-07\ttime\t0.11794940710067749\n"
     ]
    },
    {
     "name": "stderr",
     "output_type": "stream",
     "text": [
      "INFO:root:Saving fake samples to png.\n"
     ]
    },
    {
     "name": "stdout",
     "output_type": "stream",
     "text": [
      "iter 1299\ttrain disc cost\t9.053862868313445e-07\ttime\t0.11182382583618164\n"
     ]
    },
    {
     "name": "stderr",
     "output_type": "stream",
     "text": [
      "INFO:root:Saving fake samples to png.\n"
     ]
    },
    {
     "name": "stdout",
     "output_type": "stream",
     "text": [
      "iter 1399\ttrain disc cost\t1.310923948949494e-06\ttime\t0.11565391778945923\n"
     ]
    },
    {
     "name": "stderr",
     "output_type": "stream",
     "text": [
      "INFO:root:Saving fake samples to png.\n"
     ]
    },
    {
     "name": "stdout",
     "output_type": "stream",
     "text": [
      "iter 1499\ttrain disc cost\t9.720795787870884e-05\ttime\t0.11614933013916015\n"
     ]
    },
    {
     "name": "stderr",
     "output_type": "stream",
     "text": [
      "INFO:root:Saving fake samples to png.\n"
     ]
    },
    {
     "name": "stdout",
     "output_type": "stream",
     "text": [
      "iter 1599\ttrain disc cost\t6.1345317590166815e-06\ttime\t0.1117988133430481\n"
     ]
    },
    {
     "name": "stderr",
     "output_type": "stream",
     "text": [
      "INFO:root:Saving fake samples to png.\n"
     ]
    },
    {
     "name": "stdout",
     "output_type": "stream",
     "text": [
      "iter 1699\ttrain disc cost\t3.631719300756231e-05\ttime\t0.11681726932525635\n"
     ]
    },
    {
     "name": "stderr",
     "output_type": "stream",
     "text": [
      "INFO:root:Saving fake samples to png.\n"
     ]
    },
    {
     "name": "stdout",
     "output_type": "stream",
     "text": [
      "iter 1799\ttrain disc cost\t0.01960109733045101\ttime\t0.1148335599899292\n"
     ]
    },
    {
     "name": "stderr",
     "output_type": "stream",
     "text": [
      "INFO:root:Saving fake samples to png.\n"
     ]
    },
    {
     "name": "stdout",
     "output_type": "stream",
     "text": [
      "iter 1899\ttrain disc cost\t0.3065964877605438\ttime\t0.11228252649307251\n"
     ]
    },
    {
     "name": "stderr",
     "output_type": "stream",
     "text": [
      "INFO:root:Saving fake samples to png.\n",
      "INFO:root:Training iteration 2000 of 10000\n"
     ]
    },
    {
     "name": "stdout",
     "output_type": "stream",
     "text": [
      "iter 1999\ttrain disc cost\t0.2304421216249466\ttime\t0.1179557728767395\n"
     ]
    },
    {
     "name": "stderr",
     "output_type": "stream",
     "text": [
      "INFO:root:Saving fake samples to png.\n"
     ]
    },
    {
     "name": "stdout",
     "output_type": "stream",
     "text": [
      "iter 2099\ttrain disc cost\t0.14703112840652466\ttime\t0.1131836462020874\n"
     ]
    },
    {
     "name": "stderr",
     "output_type": "stream",
     "text": [
      "INFO:root:Saving fake samples to png.\n"
     ]
    },
    {
     "name": "stdout",
     "output_type": "stream",
     "text": [
      "iter 2199\ttrain disc cost\t0.09729167073965073\ttime\t0.11339236974716187\n"
     ]
    },
    {
     "name": "stderr",
     "output_type": "stream",
     "text": [
      "INFO:root:Saving fake samples to png.\n"
     ]
    },
    {
     "name": "stdout",
     "output_type": "stream",
     "text": [
      "iter 2299\ttrain disc cost\t0.09052136540412903\ttime\t0.11817880392074585\n"
     ]
    },
    {
     "name": "stderr",
     "output_type": "stream",
     "text": [
      "INFO:root:Saving fake samples to png.\n"
     ]
    },
    {
     "name": "stdout",
     "output_type": "stream",
     "text": [
      "iter 2399\ttrain disc cost\t0.13265568017959595\ttime\t0.11139304637908935\n"
     ]
    },
    {
     "name": "stderr",
     "output_type": "stream",
     "text": [
      "INFO:root:Saving fake samples to png.\n"
     ]
    },
    {
     "name": "stdout",
     "output_type": "stream",
     "text": [
      "iter 2499\ttrain disc cost\t0.0989360436797142\ttime\t0.11576256513595581\n"
     ]
    },
    {
     "name": "stderr",
     "output_type": "stream",
     "text": [
      "INFO:root:Saving fake samples to png.\n"
     ]
    },
    {
     "name": "stdout",
     "output_type": "stream",
     "text": [
      "iter 2599\ttrain disc cost\t0.1249467208981514\ttime\t0.11651671648025513\n"
     ]
    },
    {
     "name": "stderr",
     "output_type": "stream",
     "text": [
      "INFO:root:Saving fake samples to png.\n"
     ]
    },
    {
     "name": "stdout",
     "output_type": "stream",
     "text": [
      "iter 2699\ttrain disc cost\t0.10476259887218475\ttime\t0.11240358829498291\n"
     ]
    },
    {
     "name": "stderr",
     "output_type": "stream",
     "text": [
      "INFO:root:Saving fake samples to png.\n"
     ]
    },
    {
     "name": "stdout",
     "output_type": "stream",
     "text": [
      "iter 2799\ttrain disc cost\t0.1098376214504242\ttime\t0.11736461400985718\n"
     ]
    },
    {
     "name": "stderr",
     "output_type": "stream",
     "text": [
      "INFO:root:Saving fake samples to png.\n"
     ]
    },
    {
     "name": "stdout",
     "output_type": "stream",
     "text": [
      "iter 2899\ttrain disc cost\t0.1279124915599823\ttime\t0.11377572774887085\n"
     ]
    },
    {
     "name": "stderr",
     "output_type": "stream",
     "text": [
      "INFO:root:Saving fake samples to png.\n",
      "INFO:root:Training iteration 3000 of 10000\n"
     ]
    },
    {
     "name": "stdout",
     "output_type": "stream",
     "text": [
      "iter 2999\ttrain disc cost\t0.1806645542383194\ttime\t0.1122798228263855\n"
     ]
    },
    {
     "name": "stderr",
     "output_type": "stream",
     "text": [
      "INFO:root:Saving fake samples to png.\n"
     ]
    },
    {
     "name": "stdout",
     "output_type": "stream",
     "text": [
      "iter 3099\ttrain disc cost\t0.20404759049415588\ttime\t0.11831367492675782\n"
     ]
    },
    {
     "name": "stderr",
     "output_type": "stream",
     "text": [
      "INFO:root:Saving fake samples to png.\n"
     ]
    },
    {
     "name": "stdout",
     "output_type": "stream",
     "text": [
      "iter 3199\ttrain disc cost\t0.25286799669265747\ttime\t0.11241735458374023\n"
     ]
    },
    {
     "name": "stderr",
     "output_type": "stream",
     "text": [
      "INFO:root:Saving fake samples to png.\n"
     ]
    },
    {
     "name": "stdout",
     "output_type": "stream",
     "text": [
      "iter 3299\ttrain disc cost\t0.2662240266799927\ttime\t0.11384110450744629\n"
     ]
    },
    {
     "name": "stderr",
     "output_type": "stream",
     "text": [
      "INFO:root:Saving fake samples to png.\n"
     ]
    },
    {
     "name": "stdout",
     "output_type": "stream",
     "text": [
      "iter 3399\ttrain disc cost\t0.3007548451423645\ttime\t0.11710973978042602\n"
     ]
    },
    {
     "name": "stderr",
     "output_type": "stream",
     "text": [
      "INFO:root:Saving fake samples to png.\n"
     ]
    },
    {
     "name": "stdout",
     "output_type": "stream",
     "text": [
      "iter 3499\ttrain disc cost\t0.32230252027511597\ttime\t0.11138941526412964\n"
     ]
    },
    {
     "name": "stderr",
     "output_type": "stream",
     "text": [
      "INFO:root:Saving fake samples to png.\n"
     ]
    },
    {
     "name": "stdout",
     "output_type": "stream",
     "text": [
      "iter 3599\ttrain disc cost\t0.35017868876457214\ttime\t0.11613558292388916\n"
     ]
    },
    {
     "name": "stderr",
     "output_type": "stream",
     "text": [
      "INFO:root:Saving fake samples to png.\n"
     ]
    },
    {
     "name": "stdout",
     "output_type": "stream",
     "text": [
      "iter 3699\ttrain disc cost\t0.3608969449996948\ttime\t0.11532054901123047\n"
     ]
    },
    {
     "name": "stderr",
     "output_type": "stream",
     "text": [
      "INFO:root:Saving fake samples to png.\n"
     ]
    },
    {
     "name": "stdout",
     "output_type": "stream",
     "text": [
      "iter 3799\ttrain disc cost\t0.3547443747520447\ttime\t0.1112259554862976\n"
     ]
    },
    {
     "name": "stderr",
     "output_type": "stream",
     "text": [
      "INFO:root:Saving fake samples to png.\n"
     ]
    },
    {
     "name": "stdout",
     "output_type": "stream",
     "text": [
      "iter 3899\ttrain disc cost\t0.35342052578926086\ttime\t0.11679861545562745\n"
     ]
    },
    {
     "name": "stderr",
     "output_type": "stream",
     "text": [
      "INFO:root:Saving fake samples to png.\n",
      "INFO:root:Training iteration 4000 of 10000\n"
     ]
    },
    {
     "name": "stdout",
     "output_type": "stream",
     "text": [
      "iter 3999\ttrain disc cost\t0.3485995829105377\ttime\t0.1126617169380188\n"
     ]
    },
    {
     "name": "stderr",
     "output_type": "stream",
     "text": [
      "INFO:root:Saving fake samples to png.\n"
     ]
    },
    {
     "name": "stdout",
     "output_type": "stream",
     "text": [
      "iter 4099\ttrain disc cost\t0.34507930278778076\ttime\t0.11208934545516967\n"
     ]
    },
    {
     "name": "stderr",
     "output_type": "stream",
     "text": [
      "INFO:root:Saving fake samples to png.\n"
     ]
    },
    {
     "name": "stdout",
     "output_type": "stream",
     "text": [
      "iter 4199\ttrain disc cost\t0.32068076729774475\ttime\t0.11814196109771728\n"
     ]
    },
    {
     "name": "stderr",
     "output_type": "stream",
     "text": [
      "INFO:root:Saving fake samples to png.\n"
     ]
    },
    {
     "name": "stdout",
     "output_type": "stream",
     "text": [
      "iter 4299\ttrain disc cost\t0.3485414981842041\ttime\t0.1113052487373352\n"
     ]
    },
    {
     "name": "stderr",
     "output_type": "stream",
     "text": [
      "INFO:root:Saving fake samples to png.\n"
     ]
    },
    {
     "name": "stdout",
     "output_type": "stream",
     "text": [
      "iter 4399\ttrain disc cost\t0.3175503611564636\ttime\t0.11357087373733521\n"
     ]
    },
    {
     "name": "stderr",
     "output_type": "stream",
     "text": [
      "INFO:root:Saving fake samples to png.\n"
     ]
    },
    {
     "name": "stdout",
     "output_type": "stream",
     "text": [
      "iter 4499\ttrain disc cost\t0.32751837372779846\ttime\t0.11620528697967529\n"
     ]
    },
    {
     "name": "stderr",
     "output_type": "stream",
     "text": [
      "INFO:root:Saving fake samples to png.\n"
     ]
    },
    {
     "name": "stdout",
     "output_type": "stream",
     "text": [
      "iter 4599\ttrain disc cost\t0.3343692421913147\ttime\t0.11087578058242797\n"
     ]
    },
    {
     "name": "stderr",
     "output_type": "stream",
     "text": [
      "INFO:root:Saving fake samples to png.\n"
     ]
    },
    {
     "name": "stdout",
     "output_type": "stream",
     "text": [
      "iter 4699\ttrain disc cost\t0.30842089653015137\ttime\t0.1158244776725769\n"
     ]
    },
    {
     "name": "stderr",
     "output_type": "stream",
     "text": [
      "INFO:root:Saving fake samples to png.\n"
     ]
    },
    {
     "name": "stdout",
     "output_type": "stream",
     "text": [
      "iter 4799\ttrain disc cost\t0.31403306126594543\ttime\t0.11409241437911988\n"
     ]
    },
    {
     "name": "stderr",
     "output_type": "stream",
     "text": [
      "INFO:root:Saving fake samples to png.\n"
     ]
    },
    {
     "name": "stdout",
     "output_type": "stream",
     "text": [
      "iter 4899\ttrain disc cost\t0.3024737536907196\ttime\t0.11084436655044555\n"
     ]
    },
    {
     "name": "stderr",
     "output_type": "stream",
     "text": [
      "INFO:root:Saving fake samples to png.\n",
      "INFO:root:Training iteration 5000 of 10000\n"
     ]
    },
    {
     "name": "stdout",
     "output_type": "stream",
     "text": [
      "iter 4999\ttrain disc cost\t0.3032083213329315\ttime\t0.11682137727737427\n"
     ]
    },
    {
     "name": "stderr",
     "output_type": "stream",
     "text": [
      "INFO:root:Saving fake samples to png.\n"
     ]
    },
    {
     "name": "stdout",
     "output_type": "stream",
     "text": [
      "iter 5099\ttrain disc cost\t0.29291895031929016\ttime\t0.11231902837753296\n"
     ]
    },
    {
     "name": "stderr",
     "output_type": "stream",
     "text": [
      "INFO:root:Saving fake samples to png.\n"
     ]
    },
    {
     "name": "stdout",
     "output_type": "stream",
     "text": [
      "iter 5199\ttrain disc cost\t0.29153239727020264\ttime\t0.11205158472061157\n"
     ]
    },
    {
     "name": "stderr",
     "output_type": "stream",
     "text": [
      "INFO:root:Saving fake samples to png.\n"
     ]
    },
    {
     "name": "stdout",
     "output_type": "stream",
     "text": [
      "iter 5299\ttrain disc cost\t0.2713731527328491\ttime\t0.11763726711273194\n"
     ]
    },
    {
     "name": "stderr",
     "output_type": "stream",
     "text": [
      "INFO:root:Saving fake samples to png.\n"
     ]
    },
    {
     "name": "stdout",
     "output_type": "stream",
     "text": [
      "iter 5399\ttrain disc cost\t0.2721523642539978\ttime\t0.1106017780303955\n"
     ]
    },
    {
     "name": "stderr",
     "output_type": "stream",
     "text": [
      "INFO:root:Saving fake samples to png.\n"
     ]
    },
    {
     "name": "stdout",
     "output_type": "stream",
     "text": [
      "iter 5499\ttrain disc cost\t0.30389392375946045\ttime\t0.11300210237503051\n"
     ]
    },
    {
     "name": "stderr",
     "output_type": "stream",
     "text": [
      "INFO:root:Saving fake samples to png.\n"
     ]
    },
    {
     "name": "stdout",
     "output_type": "stream",
     "text": [
      "iter 5599\ttrain disc cost\t0.2757481634616852\ttime\t0.11576358318328857\n"
     ]
    },
    {
     "name": "stderr",
     "output_type": "stream",
     "text": [
      "INFO:root:Saving fake samples to png.\n"
     ]
    },
    {
     "name": "stdout",
     "output_type": "stream",
     "text": [
      "iter 5699\ttrain disc cost\t0.27879172563552856\ttime\t0.11025146007537842\n"
     ]
    },
    {
     "name": "stderr",
     "output_type": "stream",
     "text": [
      "INFO:root:Saving fake samples to png.\n"
     ]
    },
    {
     "name": "stdout",
     "output_type": "stream",
     "text": [
      "iter 5799\ttrain disc cost\t0.27393460273742676\ttime\t0.11545215845108033\n"
     ]
    },
    {
     "name": "stderr",
     "output_type": "stream",
     "text": [
      "INFO:root:Saving fake samples to png.\n"
     ]
    },
    {
     "name": "stdout",
     "output_type": "stream",
     "text": [
      "iter 5899\ttrain disc cost\t0.2706914246082306\ttime\t0.11312665939331054\n"
     ]
    },
    {
     "name": "stderr",
     "output_type": "stream",
     "text": [
      "INFO:root:Saving fake samples to png.\n",
      "INFO:root:Training iteration 6000 of 10000\n"
     ]
    },
    {
     "name": "stdout",
     "output_type": "stream",
     "text": [
      "iter 5999\ttrain disc cost\t0.2660302519798279\ttime\t0.11040063381195069\n"
     ]
    },
    {
     "name": "stderr",
     "output_type": "stream",
     "text": [
      "INFO:root:Saving fake samples to png.\n"
     ]
    },
    {
     "name": "stdout",
     "output_type": "stream",
     "text": [
      "iter 6099\ttrain disc cost\t0.25711971521377563\ttime\t0.1163491415977478\n"
     ]
    },
    {
     "name": "stderr",
     "output_type": "stream",
     "text": [
      "INFO:root:Saving fake samples to png.\n"
     ]
    },
    {
     "name": "stdout",
     "output_type": "stream",
     "text": [
      "iter 6199\ttrain disc cost\t0.2701500654220581\ttime\t0.11149622440338135\n"
     ]
    },
    {
     "name": "stderr",
     "output_type": "stream",
     "text": [
      "INFO:root:Saving fake samples to png.\n"
     ]
    },
    {
     "name": "stdout",
     "output_type": "stream",
     "text": [
      "iter 6299\ttrain disc cost\t0.27128857374191284\ttime\t0.11183514833450317\n"
     ]
    },
    {
     "name": "stderr",
     "output_type": "stream",
     "text": [
      "INFO:root:Saving fake samples to png.\n"
     ]
    },
    {
     "name": "stdout",
     "output_type": "stream",
     "text": [
      "iter 6399\ttrain disc cost\t0.2655472159385681\ttime\t0.1166969895362854\n"
     ]
    },
    {
     "name": "stderr",
     "output_type": "stream",
     "text": [
      "INFO:root:Saving fake samples to png.\n"
     ]
    },
    {
     "name": "stdout",
     "output_type": "stream",
     "text": [
      "iter 6499\ttrain disc cost\t0.2630103528499603\ttime\t0.11036545038223267\n"
     ]
    },
    {
     "name": "stderr",
     "output_type": "stream",
     "text": [
      "INFO:root:Saving fake samples to png.\n"
     ]
    },
    {
     "name": "stdout",
     "output_type": "stream",
     "text": [
      "iter 6599\ttrain disc cost\t0.252618670463562\ttime\t0.11402322292327881\n"
     ]
    },
    {
     "name": "stderr",
     "output_type": "stream",
     "text": [
      "INFO:root:Saving fake samples to png.\n"
     ]
    },
    {
     "name": "stdout",
     "output_type": "stream",
     "text": [
      "iter 6699\ttrain disc cost\t0.25433608889579773\ttime\t0.11465655088424682\n"
     ]
    },
    {
     "name": "stderr",
     "output_type": "stream",
     "text": [
      "INFO:root:Saving fake samples to png.\n"
     ]
    },
    {
     "name": "stdout",
     "output_type": "stream",
     "text": [
      "iter 6799\ttrain disc cost\t0.2515408396720886\ttime\t0.10999540567398071\n"
     ]
    },
    {
     "name": "stderr",
     "output_type": "stream",
     "text": [
      "INFO:root:Saving fake samples to png.\n"
     ]
    },
    {
     "name": "stdout",
     "output_type": "stream",
     "text": [
      "iter 6899\ttrain disc cost\t0.23561817407608032\ttime\t0.11577192783355712\n"
     ]
    },
    {
     "name": "stderr",
     "output_type": "stream",
     "text": [
      "INFO:root:Saving fake samples to png.\n",
      "INFO:root:Training iteration 7000 of 10000\n"
     ]
    },
    {
     "name": "stdout",
     "output_type": "stream",
     "text": [
      "iter 6999\ttrain disc cost\t0.23145431280136108\ttime\t0.11307170629501342\n"
     ]
    },
    {
     "name": "stderr",
     "output_type": "stream",
     "text": [
      "INFO:root:Saving fake samples to png.\n"
     ]
    },
    {
     "name": "stdout",
     "output_type": "stream",
     "text": [
      "iter 7099\ttrain disc cost\t0.2294156700372696\ttime\t0.11022693872451782\n"
     ]
    },
    {
     "name": "stderr",
     "output_type": "stream",
     "text": [
      "INFO:root:Saving fake samples to png.\n"
     ]
    },
    {
     "name": "stdout",
     "output_type": "stream",
     "text": [
      "iter 7199\ttrain disc cost\t0.2273557484149933\ttime\t0.11664494276046752\n"
     ]
    },
    {
     "name": "stderr",
     "output_type": "stream",
     "text": [
      "INFO:root:Saving fake samples to png.\n"
     ]
    },
    {
     "name": "stdout",
     "output_type": "stream",
     "text": [
      "iter 7299\ttrain disc cost\t0.23799414932727814\ttime\t0.11117464780807496\n"
     ]
    },
    {
     "name": "stderr",
     "output_type": "stream",
     "text": [
      "INFO:root:Saving fake samples to png.\n"
     ]
    },
    {
     "name": "stdout",
     "output_type": "stream",
     "text": [
      "iter 7399\ttrain disc cost\t0.2286086231470108\ttime\t0.11210269212722779\n"
     ]
    },
    {
     "name": "stderr",
     "output_type": "stream",
     "text": [
      "INFO:root:Saving fake samples to png.\n"
     ]
    },
    {
     "name": "stdout",
     "output_type": "stream",
     "text": [
      "iter 7499\ttrain disc cost\t0.21048308908939362\ttime\t0.11600975275039672\n"
     ]
    },
    {
     "name": "stderr",
     "output_type": "stream",
     "text": [
      "INFO:root:Saving fake samples to png.\n"
     ]
    },
    {
     "name": "stdout",
     "output_type": "stream",
     "text": [
      "iter 7599\ttrain disc cost\t0.22886739671230316\ttime\t0.11023184299468994\n"
     ]
    },
    {
     "name": "stderr",
     "output_type": "stream",
     "text": [
      "INFO:root:Saving fake samples to png.\n"
     ]
    },
    {
     "name": "stdout",
     "output_type": "stream",
     "text": [
      "iter 7699\ttrain disc cost\t0.22303882241249084\ttime\t0.11419387340545654\n"
     ]
    },
    {
     "name": "stderr",
     "output_type": "stream",
     "text": [
      "INFO:root:Saving fake samples to png.\n"
     ]
    },
    {
     "name": "stdout",
     "output_type": "stream",
     "text": [
      "iter 7799\ttrain disc cost\t0.2237929105758667\ttime\t0.11412321329116822\n"
     ]
    },
    {
     "name": "stderr",
     "output_type": "stream",
     "text": [
      "INFO:root:Saving fake samples to png.\n"
     ]
    },
    {
     "name": "stdout",
     "output_type": "stream",
     "text": [
      "iter 7899\ttrain disc cost\t0.2357759028673172\ttime\t0.11016256809234619\n"
     ]
    },
    {
     "name": "stderr",
     "output_type": "stream",
     "text": [
      "INFO:root:Saving fake samples to png.\n",
      "INFO:root:Training iteration 8000 of 10000\n"
     ]
    },
    {
     "name": "stdout",
     "output_type": "stream",
     "text": [
      "iter 7999\ttrain disc cost\t0.2114959955215454\ttime\t0.11496890544891357\n"
     ]
    },
    {
     "name": "stderr",
     "output_type": "stream",
     "text": [
      "INFO:root:Saving fake samples to png.\n"
     ]
    },
    {
     "name": "stdout",
     "output_type": "stream",
     "text": [
      "iter 8099\ttrain disc cost\t0.20743119716644287\ttime\t0.11219319105148315\n"
     ]
    },
    {
     "name": "stderr",
     "output_type": "stream",
     "text": [
      "INFO:root:Saving fake samples to png.\n"
     ]
    },
    {
     "name": "stdout",
     "output_type": "stream",
     "text": [
      "iter 8199\ttrain disc cost\t0.20982597768306732\ttime\t0.11093382120132446\n"
     ]
    },
    {
     "name": "stderr",
     "output_type": "stream",
     "text": [
      "INFO:root:Saving fake samples to png.\n"
     ]
    },
    {
     "name": "stdout",
     "output_type": "stream",
     "text": [
      "iter 8299\ttrain disc cost\t0.22058790922164917\ttime\t0.11616380453109741\n"
     ]
    },
    {
     "name": "stderr",
     "output_type": "stream",
     "text": [
      "INFO:root:Saving fake samples to png.\n"
     ]
    },
    {
     "name": "stdout",
     "output_type": "stream",
     "text": [
      "iter 8399\ttrain disc cost\t0.20377935469150543\ttime\t0.11131592750549317\n"
     ]
    },
    {
     "name": "stderr",
     "output_type": "stream",
     "text": [
      "INFO:root:Saving fake samples to png.\n"
     ]
    },
    {
     "name": "stdout",
     "output_type": "stream",
     "text": [
      "iter 8499\ttrain disc cost\t0.21073657274246216\ttime\t0.11251938343048096\n"
     ]
    },
    {
     "name": "stderr",
     "output_type": "stream",
     "text": [
      "INFO:root:Saving fake samples to png.\n"
     ]
    },
    {
     "name": "stdout",
     "output_type": "stream",
     "text": [
      "iter 8599\ttrain disc cost\t0.2052069902420044\ttime\t0.1154499626159668\n"
     ]
    },
    {
     "name": "stderr",
     "output_type": "stream",
     "text": [
      "INFO:root:Saving fake samples to png.\n"
     ]
    },
    {
     "name": "stdout",
     "output_type": "stream",
     "text": [
      "iter 8699\ttrain disc cost\t0.19652670621871948\ttime\t0.11001261711120605\n"
     ]
    },
    {
     "name": "stderr",
     "output_type": "stream",
     "text": [
      "INFO:root:Saving fake samples to png.\n"
     ]
    },
    {
     "name": "stdout",
     "output_type": "stream",
     "text": [
      "iter 8799\ttrain disc cost\t0.19974558055400848\ttime\t0.11513033628463745\n"
     ]
    },
    {
     "name": "stderr",
     "output_type": "stream",
     "text": [
      "INFO:root:Saving fake samples to png.\n"
     ]
    },
    {
     "name": "stdout",
     "output_type": "stream",
     "text": [
      "iter 8899\ttrain disc cost\t0.18666307628154755\ttime\t0.11365098237991333\n"
     ]
    },
    {
     "name": "stderr",
     "output_type": "stream",
     "text": [
      "INFO:root:Saving fake samples to png.\n",
      "INFO:root:Training iteration 9000 of 10000\n"
     ]
    },
    {
     "name": "stdout",
     "output_type": "stream",
     "text": [
      "iter 8999\ttrain disc cost\t0.18626375496387482\ttime\t0.11028548955917358\n"
     ]
    },
    {
     "name": "stderr",
     "output_type": "stream",
     "text": [
      "INFO:root:Saving fake samples to png.\n"
     ]
    },
    {
     "name": "stdout",
     "output_type": "stream",
     "text": [
      "iter 9099\ttrain disc cost\t0.1825942099094391\ttime\t0.11554478883743285\n"
     ]
    },
    {
     "name": "stderr",
     "output_type": "stream",
     "text": [
      "INFO:root:Saving fake samples to png.\n"
     ]
    },
    {
     "name": "stdout",
     "output_type": "stream",
     "text": [
      "iter 9199\ttrain disc cost\t0.17908816039562225\ttime\t0.11189486980438232\n"
     ]
    },
    {
     "name": "stderr",
     "output_type": "stream",
     "text": [
      "INFO:root:Saving fake samples to png.\n"
     ]
    },
    {
     "name": "stdout",
     "output_type": "stream",
     "text": [
      "iter 9299\ttrain disc cost\t0.16960492730140686\ttime\t0.11077775716781617\n"
     ]
    },
    {
     "name": "stderr",
     "output_type": "stream",
     "text": [
      "INFO:root:Saving fake samples to png.\n"
     ]
    },
    {
     "name": "stdout",
     "output_type": "stream",
     "text": [
      "iter 9399\ttrain disc cost\t0.18889065086841583\ttime\t0.11692132472991944\n"
     ]
    },
    {
     "name": "stderr",
     "output_type": "stream",
     "text": [
      "INFO:root:Saving fake samples to png.\n"
     ]
    },
    {
     "name": "stdout",
     "output_type": "stream",
     "text": [
      "iter 9499\ttrain disc cost\t0.18045854568481445\ttime\t0.11040913820266723\n"
     ]
    },
    {
     "name": "stderr",
     "output_type": "stream",
     "text": [
      "INFO:root:Saving fake samples to png.\n"
     ]
    },
    {
     "name": "stdout",
     "output_type": "stream",
     "text": [
      "iter 9599\ttrain disc cost\t0.17441606521606445\ttime\t0.11269658088684081\n"
     ]
    },
    {
     "name": "stderr",
     "output_type": "stream",
     "text": [
      "INFO:root:Saving fake samples to png.\n"
     ]
    },
    {
     "name": "stdout",
     "output_type": "stream",
     "text": [
      "iter 9699\ttrain disc cost\t0.17334483563899994\ttime\t0.11536216735839844\n"
     ]
    },
    {
     "name": "stderr",
     "output_type": "stream",
     "text": [
      "INFO:root:Saving fake samples to png.\n"
     ]
    },
    {
     "name": "stdout",
     "output_type": "stream",
     "text": [
      "iter 9799\ttrain disc cost\t0.16050630807876587\ttime\t0.11007485628128051\n"
     ]
    },
    {
     "name": "stderr",
     "output_type": "stream",
     "text": [
      "INFO:root:Saving fake samples to png.\n"
     ]
    },
    {
     "name": "stdout",
     "output_type": "stream",
     "text": [
      "iter 9899\ttrain disc cost\t0.18361541628837585\ttime\t0.11473610877990723\n"
     ]
    },
    {
     "name": "stderr",
     "output_type": "stream",
     "text": [
      "INFO:root:Saving fake samples to png.\n",
      "DEBUG:root:Training complete.\n"
     ]
    },
    {
     "name": "stdout",
     "output_type": "stream",
     "text": [
      "iter 9999\ttrain disc cost\t0.17421089112758636\ttime\t0.11275416851043701\n"
     ]
    },
    {
     "data": {
      "image/png": "[encoded data removed]",
      "text/plain": [
       "<Figure size 432x288 with 1 Axes>"
      ]
     },
     "metadata": {},
     "output_type": "display_data"
    }
   ],
   "source": [
    "model_dir = './mnist_models'\n",
    "if not os.path.exists(model_dir):\n",
    "    os.makedirs(model_dir)\n",
    "\n",
    "batch_size = 64\n",
    "output_dimensions = 784\n",
    "train_iters = 10000\n",
    "plot_save_path = model_dir\n",
    "\n",
    "model = RickAndMorty(batch_size=batch_size, \n",
    "                     output_dimensions=output_dimensions, \n",
    "                     train_iters=train_iters,\n",
    "                     plot_save_path=plot_save_path)\n",
    "\n",
    "detective = RickAndMortyDetective(model_configuration={\n",
    "    'model': model,\n",
    "    'batch_size': batch_size,\n",
    "    'output_dimensions': output_dimensions,\n",
    "    'train_iters': train_iters,\n",
    "    'save_path' : '{}/MNIST-abnormalclass-{}'.format(model_dir, abnormal_digit),\n",
    "    'plot_save_path' : plot_save_path\n",
    "})\n",
    "\n",
    "detective.train(train_data)"
   ]
  },
  {
   "cell_type": "markdown",
   "metadata": {},
   "source": [
    "## Evaluate Results"
   ]
  },
  {
   "cell_type": "markdown",
   "metadata": {},
   "source": [
    "### Load trained model"
   ]
  },
  {
   "cell_type": "code",
   "execution_count": 5,
   "metadata": {},
   "outputs": [],
   "source": [
    "# detective = RickAndMortyDetective(model_configuration={\n",
    "#     'model': model,\n",
    "#     'batch_size': batch_size,\n",
    "#     'output_dimensions': output_dimensions,\n",
    "#     'train_iters': train_iters,\n",
    "#     'load_path' : '{}/MNIST-abnormalclass-{}'.format(model_dir, abnormal_digit),\n",
    "#     'plot_save_path' : plot_save_path\n",
    "# })"
   ]
  },
  {
   "cell_type": "markdown",
   "metadata": {},
   "source": [
    "### Load test data\n"
   ]
  },
  {
   "cell_type": "code",
   "execution_count": 6,
   "metadata": {},
   "outputs": [],
   "source": [
    "# Get test data\n",
    "test_data_normal = test_data_source.get_train_data('NORMAL')\n",
    "test_data_abnormal = test_data_source.get_train_data('ABNORMAL')\n",
    "test_data = test_data_source.get_train_data('ALL')\n",
    "\n",
    "# Ground truth for ABNORMAL data is 0, ground truth for NORMAL data is 1\n",
    "n1 = np.zeros(len(test_data_abnormal.data))\n",
    "n2 = np.ones(len(test_data_normal.data))\n",
    "expected_truth = np.hstack((n1, n2))"
   ]
  },
  {
   "cell_type": "markdown",
   "metadata": {},
   "source": [
    "### Calculate ROC Score"
   ]
  },
  {
   "cell_type": "code",
   "execution_count": 7,
   "metadata": {},
   "outputs": [
    {
     "name": "stderr",
     "output_type": "stream",
     "text": [
      "INFO:root:Running detector on <alphai_watson.datasource.Sample object at 0x7f877f1b0be0>\n",
      "INFO:root:Detection completed in 0.733886132016778\n"
     ]
    },
    {
     "name": "stdout",
     "output_type": "stream",
     "text": [
      "ROC Score: 0.8690227482520858\n"
     ]
    }
   ],
   "source": [
    "detection_result = detective.detect(test_data)\n",
    "\n",
    "roc_score = GANPerformanceAnalysis({}).analyse(\n",
    "  detection_result=detection_result.data,\n",
    "  expected_truth=expected_truth\n",
    ")\n",
    "\n",
    "print('ROC Score: {}'.format(roc_score))"
   ]
  },
  {
   "cell_type": "markdown",
   "metadata": {},
   "source": [
    "### Generate classification report"
   ]
  },
  {
   "cell_type": "code",
   "execution_count": 11,
   "metadata": {},
   "outputs": [
    {
     "name": "stderr",
     "output_type": "stream",
     "text": [
      "INFO:root:Running detector on <alphai_watson.datasource.Sample object at 0x7f8802e3cb38>\n",
      "INFO:root:Detection completed in 1.6282928995788097\n"
     ]
    },
    {
     "name": "stdout",
     "output_type": "stream",
     "text": [
      "              precision    recall  f1-score   support\n",
      "\n",
      "    ABNORMAL       0.55      0.86      0.67      6958\n",
      "      NORMAL       0.89      0.61      0.72     12609\n",
      "\n",
      "   micro avg       0.70      0.70      0.70     19567\n",
      "   macro avg       0.72      0.74      0.70     19567\n",
      "weighted avg       0.77      0.70      0.70     19567\n",
      "\n"
     ]
    }
   ],
   "source": [
    "train_results = detective.detect(train_data).data\n",
    "threshold = np.mean(train_results)\n",
    "prediction = [1 if x >= threshold else 0 for x in detection_result.data]\n",
    "\n",
    "target_names = ['ABNORMAL', 'NORMAL']\n",
    "print(classification_report(expected_truth, prediction, target_names=target_names))"
   ]
  }
 ],
 "metadata": {
  "kernelspec": {
   "display_name": "Python 3",
   "language": "python",
   "name": "python3"
  },
  "language_info": {
   "codemirror_mode": {
    "name": "ipython",
    "version": 3
   },
   "file_extension": ".py",
   "mimetype": "text/x-python",
   "name": "python",
   "nbconvert_exporter": "python",
   "pygments_lexer": "ipython3",
   "version": "3.6.2"
  }
 },
 "nbformat": 4,
 "nbformat_minor": 2
}
