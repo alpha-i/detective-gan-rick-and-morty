{
 "cells": [
  {
   "cell_type": "markdown",
   "metadata": {},
   "source": [
    "## Load libraries"
   ]
  },
  {
   "cell_type": "code",
   "execution_count": null,
   "metadata": {},
   "outputs": [],
   "source": [
    "import os\n",
    "import logging\n",
    "\n",
    "import pandas as pd\n",
    "import numpy as np\n",
    "import h5py\n",
    "from sklearn.metrics import classification_report\n",
    "\n",
    "from alphai_watson.performance import GANPerformanceAnalysis\n",
    "from alphai_watson.transformer import NullTransformer\n",
    "from alphai_rickandmorty_oracle.datasource.mnist import MNISTDataSource\n",
    "from alphai_rickandmorty_oracle.detective import RickAndMortyDetective\n",
    "from alphai_rickandmorty_oracle.model import RickAndMorty\n",
    "from alphai_rickandmorty_oracle.networks.mnist import MNISTGanArchitecture\n",
    "\n",
    "from matplotlib import pyplot as plt\n",
    "import matplotlib.gridspec as gridspec\n",
    "\n",
    "logger = logging.getLogger()\n",
    "logger.setLevel(logging.CRITICAL)\n",
    "\n",
    "%matplotlib inline\n"
   ]
  },
  {
   "cell_type": "markdown",
   "metadata": {},
   "source": [
    "## Define MNIST Datasource"
   ]
  },
  {
   "cell_type": "code",
   "execution_count": null,
   "metadata": {},
   "outputs": [],
   "source": [
    "file_path = '../../tests/resources'\n",
    "\n",
    "abnormal_digit = 0\n",
    "\n",
    "# Train and test data file\n",
    "train_data_file = os.path.join(file_path, 'mnist_data_train_abnormalclass-{}.hd5'.format(abnormal_digit))\n",
    "test_data_file = os.path.join(file_path, 'mnist_data_test_abnormalclass-{}.hd5'.format(abnormal_digit))\n",
    "\n",
    "# Model parameters\n",
    "n_sensors = 28\n",
    "n_timesteps = 784 // n_sensors\n",
    "\n",
    "train_data_source = MNISTDataSource(source_file=train_data_file, \n",
    "                                    transformer=NullTransformer(number_of_timesteps=n_timesteps,\n",
    "                                                                number_of_sensors=n_sensors))\n",
    "test_data_source = MNISTDataSource(source_file=test_data_file,\n",
    "                                   transformer=NullTransformer(number_of_timesteps=n_timesteps,\n",
    "                                                               number_of_sensors=n_sensors))\n",
    "\n",
    "train_data = train_data_source.get_train_data('NORMAL')"
   ]
  },
  {
   "cell_type": "markdown",
   "metadata": {},
   "source": [
    "### Plot input images to verify correctness"
   ]
  },
  {
   "cell_type": "code",
   "execution_count": null,
   "metadata": {},
   "outputs": [],
   "source": [
    "# First row is first image\n",
    "image = train_data.data[np.random.randint(0, len(train_data.data))]\n",
    "\n",
    "# h_train = h5py.File(test_data_file)\n",
    "# image = np.array(h_train.get('ABNORMAL'))[156]\n",
    "\n",
    "# Plot the image\n",
    "plt.imshow(np.reshape(image, (28, 28)), cmap='gray')\n",
    "plt.show()"
   ]
  },
  {
   "cell_type": "markdown",
   "metadata": {},
   "source": [
    "## Define Model & Train"
   ]
  },
  {
   "cell_type": "code",
   "execution_count": null,
   "metadata": {
    "scrolled": true
   },
   "outputs": [],
   "source": [
    "model_dir = './mnist_models'\n",
    "if not os.path.exists(model_dir):\n",
    "    os.makedirs(model_dir)\n",
    "\n",
    "batch_size = 64\n",
    "output_dimensions = 784\n",
    "plot_dimensions = (28, 28)\n",
    "train_iters = 100\n",
    "plot_save_path = model_dir\n",
    "\n",
    "architecture = MNISTGanArchitecture(output_dimensions, plot_dimensions)\n",
    "\n",
    "model = RickAndMorty(architecture=architecture,\n",
    "                     batch_size=batch_size,\n",
    "                     train_iters=train_iters,\n",
    "                     plot_save_path=plot_save_path)\n",
    "\n",
    "detective = RickAndMortyDetective(\n",
    "    model_configuration = {\n",
    "        'model': model,\n",
    "        'output_dimensions': output_dimensions,\n",
    "        'batch_size': batch_size,\n",
    "        'train_iters': train_iters,\n",
    "        'save_path' : '{}/MNIST-abnormalclass-{}'.format(model_dir, abnormal_digit),\n",
    "        'plot_save_path' : plot_save_path\n",
    "    }\n",
    ")"
   ]
  },
  {
   "cell_type": "code",
   "execution_count": null,
   "metadata": {
    "scrolled": true
   },
   "outputs": [],
   "source": [
    "detective.train(train_data)"
   ]
  },
  {
   "cell_type": "markdown",
   "metadata": {},
   "source": [
    "## Evaluate Results"
   ]
  },
  {
   "cell_type": "markdown",
   "metadata": {},
   "source": [
    "### Load trained model"
   ]
  },
  {
   "cell_type": "code",
   "execution_count": null,
   "metadata": {},
   "outputs": [],
   "source": [
    "# detective = RickAndMortyDetective(model_configuration={\n",
    "#     'model': model,\n",
    "#     'batch_size': batch_size,\n",
    "#     'output_dimensions': output_dimensions,\n",
    "#     'train_iters': train_iters,\n",
    "#     'load_path' : '{}/MNIST-abnormalclass-{}'.format(model_dir, abnormal_digit),\n",
    "#     'plot_save_path' : plot_save_path\n",
    "# })"
   ]
  },
  {
   "cell_type": "markdown",
   "metadata": {},
   "source": [
    "### Visualise generated samples"
   ]
  },
  {
   "cell_type": "code",
   "execution_count": null,
   "metadata": {},
   "outputs": [],
   "source": [
    "n_row = 4\n",
    "n_col = 8\n",
    "\n",
    "plt.figure(figsize=(2*n_col, 2*n_row))\n",
    "\n",
    "gs = gridspec.GridSpec(n_row, n_col)\n",
    "gs.update(wspace=0.025, hspace=0.05)\n",
    "\n",
    "generated_samples = detective.model.generate_fake_samples()\n",
    "\n",
    "for i in range(n_row * n_col):\n",
    "    ax = plt.subplot(gs[i])\n",
    "    ax.axis('off')\n",
    "    ax.imshow(generated_samples[i], cmap='gray')"
   ]
  },
  {
   "cell_type": "markdown",
   "metadata": {},
   "source": [
    "### Load test data\n"
   ]
  },
  {
   "cell_type": "code",
   "execution_count": null,
   "metadata": {},
   "outputs": [],
   "source": [
    "# Get test data\n",
    "test_data_normal = test_data_source.get_train_data('NORMAL')\n",
    "test_data_abnormal = test_data_source.get_train_data('ABNORMAL')\n",
    "test_data = test_data_source.get_train_data('ALL')\n",
    "\n",
    "# Ground truth for ABNORMAL data is 0, ground truth for NORMAL data is 1\n",
    "n1 = np.zeros(len(test_data_abnormal.data))\n",
    "n2 = np.ones(len(test_data_normal.data))\n",
    "expected_truth = np.hstack((n1, n2))"
   ]
  },
  {
   "cell_type": "markdown",
   "metadata": {},
   "source": [
    "### Calculate ROC Score"
   ]
  },
  {
   "cell_type": "code",
   "execution_count": null,
   "metadata": {},
   "outputs": [],
   "source": [
    "detection_result = detective.detect(test_data)\n",
    "\n",
    "roc_score = GANPerformanceAnalysis({}).analyse(\n",
    "  detection_result=detection_result.data,\n",
    "  expected_truth=expected_truth\n",
    ")\n",
    "\n",
    "print('ROC Score: {}'.format(roc_score))"
   ]
  },
  {
   "cell_type": "markdown",
   "metadata": {},
   "source": [
    "### Generate classification report"
   ]
  },
  {
   "cell_type": "code",
   "execution_count": null,
   "metadata": {},
   "outputs": [],
   "source": [
    "train_results = detective.detect(train_data).data\n",
    "threshold = np.mean(train_results)\n",
    "prediction = [1 if x >= threshold else 0 for x in detection_result.data]\n",
    "\n",
    "target_names = ['ABNORMAL', 'NORMAL']\n",
    "print(classification_report(expected_truth, prediction, target_names=target_names))"
   ]
  },
  {
   "cell_type": "markdown",
   "metadata": {},
   "source": [
    "## Root Cause Analysis"
   ]
  },
  {
   "cell_type": "code",
   "execution_count": null,
   "metadata": {},
   "outputs": [],
   "source": [
    "n_img = 4\n",
    "\n",
    "normal_test_images = \\\n",
    "    test_data_normal.data[np.random.choice(test_data_normal.data.shape[0], n_img, replace=False), :, :]\n",
    "abnormal_test_images = \\\n",
    "    test_data_abnormal.data[np.random.choice(test_data_abnormal.data.shape[0], n_img, replace=False), :, :]\n",
    "\n",
    "normal_best_fakes = [detective.diagnose(nor_img) for nor_img in normal_test_images]\n",
    "abnormal_best_fakes = [detective.diagnose(abn_img) for abn_img in abnormal_test_images]\n",
    "\n",
    "# Plot normal class\n",
    "fig, ax = plt.subplots(3, n_img, figsize=(16, 12))\n",
    "fig.suptitle('Normal class', fontsize=28)\n",
    "ax[0, 0].set_ylabel('Real', fontsize=20)\n",
    "ax[1, 0].set_ylabel('Best fake', fontsize=20)\n",
    "ax[2, 0].set_ylabel('Squared Distance', fontsize=20)\n",
    "\n",
    "for i in range(n_img):\n",
    "    ax[0, i].imshow(normal_test_images[i], cmap='gray'); \n",
    "    ax[1, i].imshow(normal_best_fakes[i], cmap='gray')\n",
    "    ax[2, i].imshow(np.square(normal_test_images[i] - normal_best_fakes[i]), cmap='YlOrRd', vmin=0, vmax=1)\n",
    "\n",
    "# Plot abnormal class\n",
    "fig, ax = plt.subplots(3, n_img, figsize=(16, 12))\n",
    "fig.suptitle('Abnormal class', fontsize=28)\n",
    "ax[0, 0].set_ylabel('Real', fontsize=20)\n",
    "ax[1, 0].set_ylabel('Best fake', fontsize=20)\n",
    "ax[2, 0].set_ylabel('Squared Distance', fontsize=20)\n",
    "\n",
    "for i in range(n_img):\n",
    "    ax[0, i].imshow(abnormal_test_images[i], cmap='gray'); \n",
    "    ax[1, i].imshow(abnormal_best_fakes[i], cmap='gray')\n",
    "    ax[2, i].imshow(np.square(abnormal_test_images[i] - abnormal_best_fakes[i]), cmap='YlOrRd', vmin=0, vmax=1)"
   ]
  },
  {
   "cell_type": "code",
   "execution_count": null,
   "metadata": {},
   "outputs": [],
   "source": []
  }
 ],
 "metadata": {
  "kernelspec": {
   "display_name": "Python (rickmorty)",
   "language": "python",
   "name": "rickmorty"
  },
  "language_info": {
   "codemirror_mode": {
    "name": "ipython",
    "version": 3
   },
   "file_extension": ".py",
   "mimetype": "text/x-python",
   "name": "python",
   "nbconvert_exporter": "python",
   "pygments_lexer": "ipython3",
   "version": "3.5.6"
  }
 },
 "nbformat": 4,
 "nbformat_minor": 2
}
