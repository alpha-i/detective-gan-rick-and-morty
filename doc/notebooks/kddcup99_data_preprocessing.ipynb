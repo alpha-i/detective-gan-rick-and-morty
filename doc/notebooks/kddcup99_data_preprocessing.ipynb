{
 "cells": [
  {
   "cell_type": "code",
   "execution_count": 1,
   "metadata": {},
   "outputs": [
    {
     "name": "stderr",
     "output_type": "stream",
     "text": [
      "/opt/anaconda/envs/ai/lib/python3.6/site-packages/h5py/__init__.py:36: FutureWarning: Conversion of the second argument of issubdtype from `float` to `np.floating` is deprecated. In future, it will be treated as `np.float64 == np.dtype(float).type`.\n",
      "  from ._conv import register_converters as _register_converters\n",
      "/opt/anaconda/envs/ai/lib/python3.6/importlib/_bootstrap.py:205: RuntimeWarning: compiletime version 3.5 of module 'tensorflow.python.framework.fast_tensor_util' does not match runtime version 3.6\n",
      "  return f(*args, **kwds)\n"
     ]
    },
    {
     "name": "stdout",
     "output_type": "stream",
     "text": [
      "Enabling weight norm\n",
      "Uppercase local vars:\n",
      "\tBATCH_SIZE: 50\n",
      "\tCRITIC_ITERS: 5\n",
      "\tDEFAULT_FIT_EPOCHS: 1000\n",
      "\tDEFAULT_LEARN_RATE: 0.0001\n",
      "\tDEFAULT_TRAIN_ITERS: 5000\n",
      "\tDEFAULT_Z_DIM: 128\n",
      "\tDIAGNOSIS_LEARN_RATE: 0.01\n",
      "\tDIM: 64\n",
      "\tDISC_FILTER_SIZE: 5\n",
      "\tLAMBDA: 10\n",
      "\tLAMBDA_2: 2.0\n",
      "\tOUTPUT_DIM: 784\n"
     ]
    }
   ],
   "source": [
    "import os\n",
    "import pandas as pd\n",
    "import numpy as np\n",
    "from alphai_watson.datasource.brainwaves import BrainwavesDataSource\n",
    "from alphai_rickandmorty_oracle.datasource.kddcup99 import KDDCup99DataSource\n",
    "\n",
    "from alphai_watson.performance import GANPerformanceAnalysis\n",
    "from alphai_watson.transformer import NullTransformer\n",
    "\n",
    "from alphai_rickandmorty_oracle.detective import RickAndMortyDetective"
   ]
  },
  {
   "cell_type": "code",
   "execution_count": 2,
   "metadata": {},
   "outputs": [
    {
     "name": "stdout",
     "output_type": "stream",
     "text": [
      "(97278, 122) (68095, 122) (29183, 122)\n"
     ]
    }
   ],
   "source": [
    "file_path = '../../tests/resources'\n",
    "data_filename = os.path.join(file_path, 'kddcup.data_10_percent_corrected')\n",
    "header_filename = os.path.join(file_path, 'kddcup.names')\n",
    "\n",
    "\n",
    "data = pd.read_csv(data_filename, header=None)\n",
    "header = pd.read_csv(header_filename, delimiter=':', skiprows=1, header=None)\n",
    "header.columns = ['column', 'column_type']\n",
    "\n",
    "data.columns = header.column.tolist() + ['attack']\n",
    "data['attack'] = data['attack'].str.replace('.', '')\n",
    "data['label'] = 1\n",
    "data.loc[data['attack'] == 'normal', 'label'] = 0\n",
    "\n",
    "symbolic_columns = header.loc[header.column_type == ' symbolic.'].column.tolist()\n",
    "# print(symbolic_columns)\n",
    "\n",
    "for scol in symbolic_columns:\n",
    "    data[scol] = pd.Categorical(data[scol])\n",
    "    one_hot_cols = pd.get_dummies(data[scol], prefix=scol)\n",
    "    data = pd.concat([data, one_hot_cols], axis=1)\n",
    "\n",
    "data = data.drop(columns=symbolic_columns)\n",
    "data = data.drop(columns=['attack'])\n",
    "\n",
    "# data.loc[data.attack != 'normal' , ['attack', 'label']].head(20)\n",
    "\n",
    "data_normal = data.loc[data['label'] == 0]\n",
    "data_abnormal = data.loc[data['label'] == 1]\n",
    "\n",
    "data_normal_train = data_normal.sample(frac=0.7)\n",
    "data_normal_test = data_normal.loc[~data_normal.index.isin(data_normal_train.index)]\n",
    "\n",
    "print(data_normal.shape, data_normal_train.shape, data_normal_test.shape)\n",
    "\n",
    "data_normal_train = data_normal_train.drop(columns=['label'])\n",
    "data_normal_test = data_normal_test.drop(columns=['label'])\n",
    "data_abnormal = data_abnormal.drop(columns=['label'])\n",
    "\n",
    "save_filename_1 = os.path.join(file_path, 'kddcup99_10_percent_normal.csv')\n",
    "save_filename_2 = os.path.join(file_path, 'kddcup99_10_percent_normal_test.csv')\n",
    "save_filename_3 = os.path.join(file_path, 'kddcup99_10_percent_abnormal_test.csv')\n",
    "\n",
    "data_normal_train.to_csv(save_filename_1, header=False, index=False)\n",
    "data_normal_test.to_csv(save_filename_2, header=False, index=False)\n",
    "data_abnormal.to_csv(save_filename_3, header=False, index=False)"
   ]
  },
  {
   "cell_type": "code",
   "execution_count": 3,
   "metadata": {},
   "outputs": [
    {
     "name": "stderr",
     "output_type": "stream",
     "text": [
      "DEBUG:root:Start file parsing.\n",
      "DEBUG:root:End file parsing.\n"
     ]
    }
   ],
   "source": [
    "kdd_datasource = KDDCup99DataSource(source_file=save_filename_2, \n",
    "                                    transformer=NullTransformer(8, 8))\n",
    "\n",
    "kdd_data = kdd_datasource.get_train_data('NORMAL')"
   ]
  },
  {
   "cell_type": "code",
   "execution_count": 4,
   "metadata": {},
   "outputs": [
    {
     "data": {
      "text/plain": [
       "array([[0.000e+00, 2.390e+02, 4.860e+02, ..., 1.000e+00, 1.000e+00,\n",
       "        0.000e+00],\n",
       "       [0.000e+00, 2.100e+02, 1.510e+02, ..., 1.000e+00, 1.000e+00,\n",
       "        0.000e+00],\n",
       "       [0.000e+00, 2.410e+02, 2.590e+02, ..., 1.000e+00, 1.000e+00,\n",
       "        0.000e+00],\n",
       "       ...,\n",
       "       [0.000e+00, 2.890e+02, 2.440e+02, ..., 1.000e+00, 1.000e+00,\n",
       "        0.000e+00],\n",
       "       [0.000e+00, 2.910e+02, 1.200e+03, ..., 1.000e+00, 1.000e+00,\n",
       "        0.000e+00],\n",
       "       [0.000e+00, 2.190e+02, 1.234e+03, ..., 1.000e+00, 1.000e+00,\n",
       "        0.000e+00]])"
      ]
     },
     "execution_count": 4,
     "metadata": {},
     "output_type": "execute_result"
    }
   ],
   "source": [
    "kdd_data.data"
   ]
  }
 ],
 "metadata": {
  "kernelspec": {
   "display_name": "Python 3",
   "language": "python",
   "name": "python3"
  },
  "language_info": {
   "codemirror_mode": {
    "name": "ipython",
    "version": 3
   },
   "file_extension": ".py",
   "mimetype": "text/x-python",
   "name": "python",
   "nbconvert_exporter": "python",
   "pygments_lexer": "ipython3",
   "version": "3.6.2"
  }
 },
 "nbformat": 4,
 "nbformat_minor": 2
}
