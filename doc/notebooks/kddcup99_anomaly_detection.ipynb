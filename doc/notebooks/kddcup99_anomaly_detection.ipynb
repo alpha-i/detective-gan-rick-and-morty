{
 "cells": [
  {
   "cell_type": "markdown",
   "metadata": {},
   "source": [
    "## Load libraries"
   ]
  },
  {
   "cell_type": "code",
   "execution_count": 1,
   "metadata": {},
   "outputs": [
    {
     "name": "stderr",
     "output_type": "stream",
     "text": [
      "/opt/anaconda/envs/ai/lib/python3.6/importlib/_bootstrap.py:205: RuntimeWarning: compiletime version 3.5 of module 'tensorflow.python.framework.fast_tensor_util' does not match runtime version 3.6\n",
      "  return f(*args, **kwds)\n",
      "/opt/anaconda/envs/ai/lib/python3.6/site-packages/h5py/__init__.py:36: FutureWarning: Conversion of the second argument of issubdtype from `float` to `np.floating` is deprecated. In future, it will be treated as `np.float64 == np.dtype(float).type`.\n",
      "  from ._conv import register_converters as _register_converters\n",
      "DEBUG:matplotlib:CACHEDIR=/home/ubuntu/.cache/matplotlib\n",
      "DEBUG:matplotlib.font_manager:Using fontManager instance from /home/ubuntu/.cache/matplotlib/fontList.json\n",
      "DEBUG:matplotlib.backends:backend agg version v2.2\n"
     ]
    },
    {
     "name": "stdout",
     "output_type": "stream",
     "text": [
      "Enabling weight norm\n",
      "Uppercase local vars:\n",
      "\tBATCH_SIZE: 50\n",
      "\tCRITIC_ITERS: 5\n",
      "\tDEFAULT_FIT_EPOCHS: 1000\n",
      "\tDEFAULT_LEARN_RATE: 0.0001\n",
      "\tDEFAULT_TRAIN_ITERS: 5000\n",
      "\tDEFAULT_Z_DIM: 32\n",
      "\tDIAGNOSIS_LEARN_RATE: 0.01\n",
      "\tDIM: 64\n",
      "\tDISC_FILTER_SIZE: 5\n",
      "\tINIT_KERNEL: <function variance_scaling_initializer.<locals>._initializer at 0x7f2b3cf36730>\n",
      "\tLAMBDA: 10\n",
      "\tLAMBDA_2: 2.0\n",
      "\tOUTPUT_DIM: 121\n"
     ]
    }
   ],
   "source": [
    "import os\n",
    "import numpy as np\n",
    "from sklearn.metrics import accuracy_score, classification_report\n",
    "\n",
    "from alphai_watson.performance import GANPerformanceAnalysis\n",
    "from alphai_watson.transformer import NullTransformer\n",
    "from alphai_rickandmorty_oracle.datasource.kddcup99 import KDDCup99DataSource\n",
    "from alphai_rickandmorty_oracle.detective import RickAndMortyDetective\n",
    "from alphai_rickandmorty_oracle.model_kddcup99 import RickAndMorty"
   ]
  },
  {
   "cell_type": "markdown",
   "metadata": {},
   "source": [
    "## Define KDDCup99 Datasource"
   ]
  },
  {
   "cell_type": "code",
   "execution_count": 2,
   "metadata": {},
   "outputs": [
    {
     "name": "stderr",
     "output_type": "stream",
     "text": [
      "DEBUG:root:Start file parsing.\n",
      "DEBUG:root:Normal (97278, 122); Train (68095, 121); Test(29183, 121)\n",
      "DEBUG:root:Abnormal (396743, 121)\n",
      "DEBUG:root:End file parsing.\n"
     ]
    }
   ],
   "source": [
    "file_path = '../../tests/resources'\n",
    "data_filename = os.path.join(file_path, 'kddcup.data_10_percent_corrected')\n",
    "header_filename = os.path.join(file_path, 'kddcup.names')\n",
    "\n",
    "kdd_datasource = KDDCup99DataSource(source_file=data_filename,\n",
    "                                    header_file=header_filename,\n",
    "                                    transformer=NullTransformer(8, 8))"
   ]
  },
  {
   "cell_type": "code",
   "execution_count": 3,
   "metadata": {},
   "outputs": [],
   "source": [
    "data_normal_train = kdd_datasource.get_train_data('NORMAL')\n",
    "data_normal_test = kdd_datasource.get_train_data('NORMAL_TEST')\n",
    "data_abnormal_test = kdd_datasource.get_train_data('ABNORMAL_TEST')"
   ]
  },
  {
   "cell_type": "markdown",
   "metadata": {},
   "source": [
    "## Define Model"
   ]
  },
  {
   "cell_type": "code",
   "execution_count": 4,
   "metadata": {
    "scrolled": true
   },
   "outputs": [
    {
     "name": "stderr",
     "output_type": "stream",
     "text": [
      "DEBUG:root:Starting session\n",
      "DEBUG:root:Start training loop...\n",
      "INFO:root:Initialising Model\n",
      "INFO:root:Training iteration 0 of 10000\n",
      "DEBUG:matplotlib.font_manager:findfont: Matching :family=sans-serif:style=normal:variant=normal:weight=normal:stretch=normal:size=10.0 to DejaVu Sans ('/opt/anaconda/envs/ai/lib/python3.6/site-packages/matplotlib/mpl-data/fonts/ttf/DejaVuSans.ttf') with score of 0.050000\n"
     ]
    },
    {
     "name": "stdout",
     "output_type": "stream",
     "text": [
      "iter 0\ttrain disc cost\t1.4063067436218262\ttime\t0.2532217502593994\n",
      "iter 1\ttrain gen cost\t0.6535462737083435\ttrain disc cost\t1.3967413902282715\ttime\t0.09264922142028809\n",
      "iter 2\ttrain gen cost\t0.6615350842475891\ttrain disc cost\t1.386734962463379\ttime\t0.06153059005737305\n",
      "iter 3\ttrain gen cost\t0.6663669943809509\ttrain disc cost\t1.378959059715271\ttime\t0.06122446060180664\n",
      "iter 4\ttrain gen cost\t0.6716501116752625\ttrain disc cost\t1.3709235191345215\ttime\t0.061295270919799805\n"
     ]
    },
    {
     "name": "stderr",
     "output_type": "stream",
     "text": [
      "INFO:root:Saving fake samples to png.\n",
      "INFO:root:Training iteration 100 of 10000\n"
     ]
    },
    {
     "name": "stdout",
     "output_type": "stream",
     "text": [
      "iter 99\ttrain gen cost\t1.1203573942184448\ttrain disc cost\t0.7872447967529297\ttime\t0.06142750539277729\n"
     ]
    },
    {
     "name": "stderr",
     "output_type": "stream",
     "text": [
      "INFO:root:Saving fake samples to png.\n",
      "INFO:root:Training iteration 200 of 10000\n"
     ]
    },
    {
     "name": "stdout",
     "output_type": "stream",
     "text": [
      "iter 199\ttrain gen cost\t5.478801250457764\ttrain disc cost\t0.2849805951118469\ttime\t0.0553252649307251\n"
     ]
    },
    {
     "name": "stderr",
     "output_type": "stream",
     "text": [
      "INFO:root:Saving fake samples to png.\n",
      "INFO:root:Training iteration 300 of 10000\n"
     ]
    },
    {
     "name": "stdout",
     "output_type": "stream",
     "text": [
      "iter 299\ttrain gen cost\t7.02268123626709\ttrain disc cost\t0.284130722284317\ttime\t0.06027040004730225\n"
     ]
    },
    {
     "name": "stderr",
     "output_type": "stream",
     "text": [
      "INFO:root:Saving fake samples to png.\n",
      "INFO:root:Training iteration 400 of 10000\n"
     ]
    },
    {
     "name": "stdout",
     "output_type": "stream",
     "text": [
      "iter 399\ttrain gen cost\t3.869412422180176\ttrain disc cost\t0.45144927501678467\ttime\t0.055904281139373777\n"
     ]
    },
    {
     "name": "stderr",
     "output_type": "stream",
     "text": [
      "INFO:root:Saving fake samples to png.\n",
      "INFO:root:Training iteration 500 of 10000\n"
     ]
    },
    {
     "name": "stdout",
     "output_type": "stream",
     "text": [
      "iter 499\ttrain gen cost\t1.8605811595916748\ttrain disc cost\t0.615872323513031\ttime\t0.0565425705909729\n"
     ]
    },
    {
     "name": "stderr",
     "output_type": "stream",
     "text": [
      "INFO:root:Saving fake samples to png.\n",
      "INFO:root:Training iteration 600 of 10000\n"
     ]
    },
    {
     "name": "stdout",
     "output_type": "stream",
     "text": [
      "iter 599\ttrain gen cost\t1.2128087282180786\ttrain disc cost\t0.9926706552505493\ttime\t0.058001811504364016\n"
     ]
    },
    {
     "name": "stderr",
     "output_type": "stream",
     "text": [
      "INFO:root:Saving fake samples to png.\n",
      "INFO:root:Training iteration 700 of 10000\n"
     ]
    },
    {
     "name": "stdout",
     "output_type": "stream",
     "text": [
      "iter 699\ttrain gen cost\t1.1069058179855347\ttrain disc cost\t0.9443762898445129\ttime\t0.054534077644348145\n"
     ]
    },
    {
     "name": "stderr",
     "output_type": "stream",
     "text": [
      "INFO:root:Saving fake samples to png.\n",
      "INFO:root:Training iteration 800 of 10000\n"
     ]
    },
    {
     "name": "stdout",
     "output_type": "stream",
     "text": [
      "iter 799\ttrain gen cost\t0.9283540844917297\ttrain disc cost\t0.9783352017402649\ttime\t0.06025880813598633\n"
     ]
    },
    {
     "name": "stderr",
     "output_type": "stream",
     "text": [
      "INFO:root:Saving fake samples to png.\n",
      "INFO:root:Training iteration 900 of 10000\n"
     ]
    },
    {
     "name": "stdout",
     "output_type": "stream",
     "text": [
      "iter 899\ttrain gen cost\t0.9066672325134277\ttrain disc cost\t1.1539313793182373\ttime\t0.05299806118011475\n"
     ]
    },
    {
     "name": "stderr",
     "output_type": "stream",
     "text": [
      "INFO:root:Saving fake samples to png.\n",
      "INFO:root:Training iteration 1000 of 10000\n"
     ]
    },
    {
     "name": "stdout",
     "output_type": "stream",
     "text": [
      "iter 999\ttrain gen cost\t0.7832698822021484\ttrain disc cost\t1.1301417350769043\ttime\t0.06534833908081054\n"
     ]
    },
    {
     "name": "stderr",
     "output_type": "stream",
     "text": [
      "INFO:root:Saving fake samples to png.\n",
      "INFO:root:Training iteration 1100 of 10000\n"
     ]
    },
    {
     "name": "stdout",
     "output_type": "stream",
     "text": [
      "iter 1099\ttrain gen cost\t0.8064736127853394\ttrain disc cost\t1.18306565284729\ttime\t0.0526171350479126\n"
     ]
    },
    {
     "name": "stderr",
     "output_type": "stream",
     "text": [
      "INFO:root:Saving fake samples to png.\n",
      "INFO:root:Training iteration 1200 of 10000\n"
     ]
    },
    {
     "name": "stdout",
     "output_type": "stream",
     "text": [
      "iter 1199\ttrain gen cost\t0.7404592037200928\ttrain disc cost\t0.9383070468902588\ttime\t0.0628021240234375\n"
     ]
    },
    {
     "name": "stderr",
     "output_type": "stream",
     "text": [
      "INFO:root:Saving fake samples to png.\n",
      "INFO:root:Training iteration 1300 of 10000\n"
     ]
    },
    {
     "name": "stdout",
     "output_type": "stream",
     "text": [
      "iter 1299\ttrain gen cost\t0.73462975025177\ttrain disc cost\t1.0284847021102905\ttime\t0.050707035064697266\n"
     ]
    },
    {
     "name": "stderr",
     "output_type": "stream",
     "text": [
      "INFO:root:Saving fake samples to png.\n",
      "INFO:root:Training iteration 1400 of 10000\n"
     ]
    },
    {
     "name": "stdout",
     "output_type": "stream",
     "text": [
      "iter 1399\ttrain gen cost\t0.7806004285812378\ttrain disc cost\t1.036677598953247\ttime\t0.06228620767593384\n"
     ]
    },
    {
     "name": "stderr",
     "output_type": "stream",
     "text": [
      "INFO:root:Saving fake samples to png.\n",
      "INFO:root:Training iteration 1500 of 10000\n"
     ]
    },
    {
     "name": "stdout",
     "output_type": "stream",
     "text": [
      "iter 1499\ttrain gen cost\t0.9114783406257629\ttrain disc cost\t1.0676637887954712\ttime\t0.0507304310798645\n"
     ]
    },
    {
     "name": "stderr",
     "output_type": "stream",
     "text": [
      "INFO:root:Saving fake samples to png.\n",
      "INFO:root:Training iteration 1600 of 10000\n"
     ]
    },
    {
     "name": "stdout",
     "output_type": "stream",
     "text": [
      "iter 1599\ttrain gen cost\t0.944583535194397\ttrain disc cost\t1.1171412467956543\ttime\t0.06153939247131348\n"
     ]
    },
    {
     "name": "stderr",
     "output_type": "stream",
     "text": [
      "INFO:root:Saving fake samples to png.\n",
      "INFO:root:Training iteration 1700 of 10000\n"
     ]
    },
    {
     "name": "stdout",
     "output_type": "stream",
     "text": [
      "iter 1699\ttrain gen cost\t0.8712936639785767\ttrain disc cost\t1.0548341274261475\ttime\t0.0499163556098938\n"
     ]
    },
    {
     "name": "stderr",
     "output_type": "stream",
     "text": [
      "INFO:root:Saving fake samples to png.\n",
      "INFO:root:Training iteration 1800 of 10000\n"
     ]
    },
    {
     "name": "stdout",
     "output_type": "stream",
     "text": [
      "iter 1799\ttrain gen cost\t0.9224149584770203\ttrain disc cost\t1.0668925046920776\ttime\t0.06460623741149903\n"
     ]
    },
    {
     "name": "stderr",
     "output_type": "stream",
     "text": [
      "INFO:root:Saving fake samples to png.\n",
      "INFO:root:Training iteration 1900 of 10000\n"
     ]
    },
    {
     "name": "stdout",
     "output_type": "stream",
     "text": [
      "iter 1899\ttrain gen cost\t0.9427010416984558\ttrain disc cost\t1.0642449855804443\ttime\t0.057090983390808106\n"
     ]
    },
    {
     "name": "stderr",
     "output_type": "stream",
     "text": [
      "INFO:root:Saving fake samples to png.\n",
      "INFO:root:Training iteration 2000 of 10000\n"
     ]
    },
    {
     "name": "stdout",
     "output_type": "stream",
     "text": [
      "iter 1999\ttrain gen cost\t0.9711341261863708\ttrain disc cost\t1.0919675827026367\ttime\t0.05904125452041626\n"
     ]
    },
    {
     "name": "stderr",
     "output_type": "stream",
     "text": [
      "INFO:root:Saving fake samples to png.\n",
      "INFO:root:Training iteration 2100 of 10000\n"
     ]
    },
    {
     "name": "stdout",
     "output_type": "stream",
     "text": [
      "iter 2099\ttrain gen cost\t0.9500799775123596\ttrain disc cost\t1.1015018224716187\ttime\t0.05599673986434937\n"
     ]
    },
    {
     "name": "stderr",
     "output_type": "stream",
     "text": [
      "INFO:root:Saving fake samples to png.\n",
      "INFO:root:Training iteration 2200 of 10000\n"
     ]
    },
    {
     "name": "stdout",
     "output_type": "stream",
     "text": [
      "iter 2199\ttrain gen cost\t0.953843891620636\ttrain disc cost\t1.1018308401107788\ttime\t0.05722272634506226\n"
     ]
    },
    {
     "name": "stderr",
     "output_type": "stream",
     "text": [
      "INFO:root:Saving fake samples to png.\n",
      "INFO:root:Training iteration 2300 of 10000\n"
     ]
    },
    {
     "name": "stdout",
     "output_type": "stream",
     "text": [
      "iter 2299\ttrain gen cost\t0.9319191575050354\ttrain disc cost\t1.0870000123977661\ttime\t0.05817603588104248\n"
     ]
    },
    {
     "name": "stderr",
     "output_type": "stream",
     "text": [
      "INFO:root:Saving fake samples to png.\n",
      "INFO:root:Training iteration 2400 of 10000\n"
     ]
    },
    {
     "name": "stdout",
     "output_type": "stream",
     "text": [
      "iter 2399\ttrain gen cost\t0.9395670890808105\ttrain disc cost\t1.1024986505508423\ttime\t0.05448242664337158\n"
     ]
    },
    {
     "name": "stderr",
     "output_type": "stream",
     "text": [
      "INFO:root:Saving fake samples to png.\n",
      "INFO:root:Training iteration 2500 of 10000\n"
     ]
    },
    {
     "name": "stdout",
     "output_type": "stream",
     "text": [
      "iter 2499\ttrain gen cost\t0.9423531293869019\ttrain disc cost\t1.0909596681594849\ttime\t0.06021821022033692\n"
     ]
    },
    {
     "name": "stderr",
     "output_type": "stream",
     "text": [
      "INFO:root:Saving fake samples to png.\n",
      "INFO:root:Training iteration 2600 of 10000\n"
     ]
    },
    {
     "name": "stdout",
     "output_type": "stream",
     "text": [
      "iter 2599\ttrain gen cost\t0.9403994083404541\ttrain disc cost\t1.099454641342163\ttime\t0.053165357112884525\n"
     ]
    },
    {
     "name": "stderr",
     "output_type": "stream",
     "text": [
      "INFO:root:Saving fake samples to png.\n",
      "INFO:root:Training iteration 2700 of 10000\n"
     ]
    },
    {
     "name": "stdout",
     "output_type": "stream",
     "text": [
      "iter 2699\ttrain gen cost\t0.9400244951248169\ttrain disc cost\t1.0823811292648315\ttime\t0.06580305814743043\n"
     ]
    },
    {
     "name": "stderr",
     "output_type": "stream",
     "text": [
      "INFO:root:Saving fake samples to png.\n",
      "INFO:root:Training iteration 2800 of 10000\n"
     ]
    },
    {
     "name": "stdout",
     "output_type": "stream",
     "text": [
      "iter 2799\ttrain gen cost\t0.9504903554916382\ttrain disc cost\t1.0996867418289185\ttime\t0.052871479988098144\n"
     ]
    },
    {
     "name": "stderr",
     "output_type": "stream",
     "text": [
      "INFO:root:Saving fake samples to png.\n",
      "INFO:root:Training iteration 2900 of 10000\n"
     ]
    },
    {
     "name": "stdout",
     "output_type": "stream",
     "text": [
      "iter 2899\ttrain gen cost\t0.9422023296356201\ttrain disc cost\t1.1068751811981201\ttime\t0.061604790687561035\n"
     ]
    },
    {
     "name": "stderr",
     "output_type": "stream",
     "text": [
      "INFO:root:Saving fake samples to png.\n",
      "INFO:root:Training iteration 3000 of 10000\n"
     ]
    },
    {
     "name": "stdout",
     "output_type": "stream",
     "text": [
      "iter 2999\ttrain gen cost\t0.9415309429168701\ttrain disc cost\t1.0943082571029663\ttime\t0.05016312599182129\n"
     ]
    },
    {
     "name": "stderr",
     "output_type": "stream",
     "text": [
      "INFO:root:Saving fake samples to png.\n",
      "INFO:root:Training iteration 3100 of 10000\n"
     ]
    },
    {
     "name": "stdout",
     "output_type": "stream",
     "text": [
      "iter 3099\ttrain gen cost\t0.9581064581871033\ttrain disc cost\t1.080672264099121\ttime\t0.06205157518386841\n"
     ]
    },
    {
     "name": "stderr",
     "output_type": "stream",
     "text": [
      "INFO:root:Saving fake samples to png.\n",
      "INFO:root:Training iteration 3200 of 10000\n"
     ]
    },
    {
     "name": "stdout",
     "output_type": "stream",
     "text": [
      "iter 3199\ttrain gen cost\t0.9507116079330444\ttrain disc cost\t1.100701928138733\ttime\t0.05068774461746216\n"
     ]
    },
    {
     "name": "stderr",
     "output_type": "stream",
     "text": [
      "INFO:root:Saving fake samples to png.\n",
      "INFO:root:Training iteration 3300 of 10000\n"
     ]
    },
    {
     "name": "stdout",
     "output_type": "stream",
     "text": [
      "iter 3299\ttrain gen cost\t0.9734938144683838\ttrain disc cost\t1.0914779901504517\ttime\t0.0618974757194519\n"
     ]
    },
    {
     "name": "stderr",
     "output_type": "stream",
     "text": [
      "INFO:root:Saving fake samples to png.\n",
      "INFO:root:Training iteration 3400 of 10000\n"
     ]
    },
    {
     "name": "stdout",
     "output_type": "stream",
     "text": [
      "iter 3399\ttrain gen cost\t0.9567620158195496\ttrain disc cost\t1.0920580625534058\ttime\t0.05004383563995361\n"
     ]
    },
    {
     "name": "stderr",
     "output_type": "stream",
     "text": [
      "INFO:root:Saving fake samples to png.\n",
      "INFO:root:Training iteration 3500 of 10000\n"
     ]
    },
    {
     "name": "stdout",
     "output_type": "stream",
     "text": [
      "iter 3499\ttrain gen cost\t0.9630298614501953\ttrain disc cost\t1.0897626876831055\ttime\t0.06294995069503784\n"
     ]
    },
    {
     "name": "stderr",
     "output_type": "stream",
     "text": [
      "INFO:root:Saving fake samples to png.\n",
      "INFO:root:Training iteration 3600 of 10000\n"
     ]
    },
    {
     "name": "stdout",
     "output_type": "stream",
     "text": [
      "iter 3599\ttrain gen cost\t0.9671761989593506\ttrain disc cost\t1.084290623664856\ttime\t0.05731591463088989\n"
     ]
    },
    {
     "name": "stderr",
     "output_type": "stream",
     "text": [
      "INFO:root:Saving fake samples to png.\n",
      "INFO:root:Training iteration 3700 of 10000\n"
     ]
    },
    {
     "name": "stdout",
     "output_type": "stream",
     "text": [
      "iter 3699\ttrain gen cost\t0.9748260378837585\ttrain disc cost\t1.0808194875717163\ttime\t0.05913689613342285\n"
     ]
    },
    {
     "name": "stderr",
     "output_type": "stream",
     "text": [
      "INFO:root:Saving fake samples to png.\n",
      "INFO:root:Training iteration 3800 of 10000\n"
     ]
    },
    {
     "name": "stdout",
     "output_type": "stream",
     "text": [
      "iter 3799\ttrain gen cost\t0.9638097286224365\ttrain disc cost\t1.0893120765686035\ttime\t0.056525588035583496\n"
     ]
    },
    {
     "name": "stderr",
     "output_type": "stream",
     "text": [
      "INFO:root:Saving fake samples to png.\n",
      "INFO:root:Training iteration 3900 of 10000\n"
     ]
    },
    {
     "name": "stdout",
     "output_type": "stream",
     "text": [
      "iter 3899\ttrain gen cost\t0.9670403003692627\ttrain disc cost\t1.0797978639602661\ttime\t0.05696399450302124\n"
     ]
    },
    {
     "name": "stderr",
     "output_type": "stream",
     "text": [
      "INFO:root:Saving fake samples to png.\n",
      "INFO:root:Training iteration 4000 of 10000\n"
     ]
    },
    {
     "name": "stdout",
     "output_type": "stream",
     "text": [
      "iter 3999\ttrain gen cost\t0.9773693680763245\ttrain disc cost\t1.0848084688186646\ttime\t0.058575208187103274\n"
     ]
    },
    {
     "name": "stderr",
     "output_type": "stream",
     "text": [
      "INFO:root:Saving fake samples to png.\n",
      "INFO:root:Training iteration 4100 of 10000\n"
     ]
    },
    {
     "name": "stdout",
     "output_type": "stream",
     "text": [
      "iter 4099\ttrain gen cost\t0.9752826690673828\ttrain disc cost\t1.0801960229873657\ttime\t0.054561614990234375\n"
     ]
    },
    {
     "name": "stderr",
     "output_type": "stream",
     "text": [
      "INFO:root:Saving fake samples to png.\n",
      "INFO:root:Training iteration 4200 of 10000\n"
     ]
    },
    {
     "name": "stdout",
     "output_type": "stream",
     "text": [
      "iter 4199\ttrain gen cost\t0.9770475625991821\ttrain disc cost\t1.0798879861831665\ttime\t0.06017733335494995\n"
     ]
    },
    {
     "name": "stderr",
     "output_type": "stream",
     "text": [
      "INFO:root:Saving fake samples to png.\n",
      "INFO:root:Training iteration 4300 of 10000\n"
     ]
    },
    {
     "name": "stdout",
     "output_type": "stream",
     "text": [
      "iter 4299\ttrain gen cost\t0.98078453540802\ttrain disc cost\t1.0829519033432007\ttime\t0.05304098606109619\n"
     ]
    },
    {
     "name": "stderr",
     "output_type": "stream",
     "text": [
      "INFO:root:Saving fake samples to png.\n",
      "INFO:root:Training iteration 4400 of 10000\n"
     ]
    },
    {
     "name": "stdout",
     "output_type": "stream",
     "text": [
      "iter 4399\ttrain gen cost\t0.9871193170547485\ttrain disc cost\t1.0856517553329468\ttime\t0.06633330821990967\n"
     ]
    },
    {
     "name": "stderr",
     "output_type": "stream",
     "text": [
      "INFO:root:Saving fake samples to png.\n",
      "INFO:root:Training iteration 4500 of 10000\n"
     ]
    },
    {
     "name": "stdout",
     "output_type": "stream",
     "text": [
      "iter 4499\ttrain gen cost\t0.9886676669120789\ttrain disc cost\t1.084175944328308\ttime\t0.05304694652557373\n"
     ]
    },
    {
     "name": "stderr",
     "output_type": "stream",
     "text": [
      "INFO:root:Saving fake samples to png.\n",
      "INFO:root:Training iteration 4600 of 10000\n"
     ]
    },
    {
     "name": "stdout",
     "output_type": "stream",
     "text": [
      "iter 4599\ttrain gen cost\t0.9904865026473999\ttrain disc cost\t1.0852681398391724\ttime\t0.061531946659088135\n"
     ]
    },
    {
     "name": "stderr",
     "output_type": "stream",
     "text": [
      "INFO:root:Saving fake samples to png.\n",
      "INFO:root:Training iteration 4700 of 10000\n"
     ]
    },
    {
     "name": "stdout",
     "output_type": "stream",
     "text": [
      "iter 4699\ttrain gen cost\t0.9860567450523376\ttrain disc cost\t1.0690317153930664\ttime\t0.05002838134765625\n"
     ]
    },
    {
     "name": "stderr",
     "output_type": "stream",
     "text": [
      "INFO:root:Saving fake samples to png.\n",
      "INFO:root:Training iteration 4800 of 10000\n"
     ]
    },
    {
     "name": "stdout",
     "output_type": "stream",
     "text": [
      "iter 4799\ttrain gen cost\t0.9845101833343506\ttrain disc cost\t1.074028491973877\ttime\t0.06194399833679199\n"
     ]
    },
    {
     "name": "stderr",
     "output_type": "stream",
     "text": [
      "INFO:root:Saving fake samples to png.\n",
      "INFO:root:Training iteration 4900 of 10000\n"
     ]
    },
    {
     "name": "stdout",
     "output_type": "stream",
     "text": [
      "iter 4899\ttrain gen cost\t0.9963117241859436\ttrain disc cost\t1.084395170211792\ttime\t0.05003055572509765\n"
     ]
    },
    {
     "name": "stderr",
     "output_type": "stream",
     "text": [
      "INFO:root:Saving fake samples to png.\n",
      "INFO:root:Training iteration 5000 of 10000\n"
     ]
    },
    {
     "name": "stdout",
     "output_type": "stream",
     "text": [
      "iter 4999\ttrain gen cost\t0.9946356415748596\ttrain disc cost\t1.0720555782318115\ttime\t0.061348400115966796\n"
     ]
    },
    {
     "name": "stderr",
     "output_type": "stream",
     "text": [
      "INFO:root:Saving fake samples to png.\n",
      "INFO:root:Training iteration 5100 of 10000\n"
     ]
    },
    {
     "name": "stdout",
     "output_type": "stream",
     "text": [
      "iter 5099\ttrain gen cost\t0.9877452254295349\ttrain disc cost\t1.0827769041061401\ttime\t0.050469143390655516\n"
     ]
    },
    {
     "name": "stderr",
     "output_type": "stream",
     "text": [
      "INFO:root:Saving fake samples to png.\n",
      "INFO:root:Training iteration 5200 of 10000\n"
     ]
    },
    {
     "name": "stdout",
     "output_type": "stream",
     "text": [
      "iter 5199\ttrain gen cost\t0.9918763041496277\ttrain disc cost\t1.0766066312789917\ttime\t0.06287864446640015\n"
     ]
    },
    {
     "name": "stderr",
     "output_type": "stream",
     "text": [
      "INFO:root:Saving fake samples to png.\n",
      "INFO:root:Training iteration 5300 of 10000\n"
     ]
    },
    {
     "name": "stdout",
     "output_type": "stream",
     "text": [
      "iter 5299\ttrain gen cost\t0.9964357614517212\ttrain disc cost\t1.071953535079956\ttime\t0.05704213857650757\n"
     ]
    },
    {
     "name": "stderr",
     "output_type": "stream",
     "text": [
      "INFO:root:Saving fake samples to png.\n",
      "INFO:root:Training iteration 5400 of 10000\n"
     ]
    },
    {
     "name": "stdout",
     "output_type": "stream",
     "text": [
      "iter 5399\ttrain gen cost\t0.9986832141876221\ttrain disc cost\t1.0692566633224487\ttime\t0.05930609464645386\n"
     ]
    },
    {
     "name": "stderr",
     "output_type": "stream",
     "text": [
      "INFO:root:Saving fake samples to png.\n",
      "INFO:root:Training iteration 5500 of 10000\n"
     ]
    },
    {
     "name": "stdout",
     "output_type": "stream",
     "text": [
      "iter 5499\ttrain gen cost\t1.0020180940628052\ttrain disc cost\t1.061825156211853\ttime\t0.05635550022125244\n"
     ]
    },
    {
     "name": "stderr",
     "output_type": "stream",
     "text": [
      "INFO:root:Saving fake samples to png.\n",
      "INFO:root:Training iteration 5600 of 10000\n"
     ]
    },
    {
     "name": "stdout",
     "output_type": "stream",
     "text": [
      "iter 5599\ttrain gen cost\t0.9998932480812073\ttrain disc cost\t1.0750627517700195\ttime\t0.056018297672271726\n"
     ]
    },
    {
     "name": "stderr",
     "output_type": "stream",
     "text": [
      "INFO:root:Saving fake samples to png.\n",
      "INFO:root:Training iteration 5700 of 10000\n"
     ]
    },
    {
     "name": "stdout",
     "output_type": "stream",
     "text": [
      "iter 5699\ttrain gen cost\t0.9939178228378296\ttrain disc cost\t1.0590780973434448\ttime\t0.05783382654190063\n"
     ]
    },
    {
     "name": "stderr",
     "output_type": "stream",
     "text": [
      "INFO:root:Saving fake samples to png.\n",
      "INFO:root:Training iteration 5800 of 10000\n"
     ]
    },
    {
     "name": "stdout",
     "output_type": "stream",
     "text": [
      "iter 5799\ttrain gen cost\t0.999226987361908\ttrain disc cost\t1.0706450939178467\ttime\t0.0541267204284668\n"
     ]
    },
    {
     "name": "stderr",
     "output_type": "stream",
     "text": [
      "INFO:root:Saving fake samples to png.\n",
      "INFO:root:Training iteration 5900 of 10000\n"
     ]
    },
    {
     "name": "stdout",
     "output_type": "stream",
     "text": [
      "iter 5899\ttrain gen cost\t0.9986962676048279\ttrain disc cost\t1.0738954544067383\ttime\t0.06031057119369507\n"
     ]
    },
    {
     "name": "stderr",
     "output_type": "stream",
     "text": [
      "INFO:root:Saving fake samples to png.\n",
      "INFO:root:Training iteration 6000 of 10000\n"
     ]
    },
    {
     "name": "stdout",
     "output_type": "stream",
     "text": [
      "iter 5999\ttrain gen cost\t1.0138370990753174\ttrain disc cost\t1.0649967193603516\ttime\t0.053389074802398684\n"
     ]
    },
    {
     "name": "stderr",
     "output_type": "stream",
     "text": [
      "INFO:root:Saving fake samples to png.\n",
      "INFO:root:Training iteration 6100 of 10000\n"
     ]
    },
    {
     "name": "stdout",
     "output_type": "stream",
     "text": [
      "iter 6099\ttrain gen cost\t1.0045061111450195\ttrain disc cost\t1.0794179439544678\ttime\t0.06229402780532837\n"
     ]
    },
    {
     "name": "stderr",
     "output_type": "stream",
     "text": [
      "INFO:root:Saving fake samples to png.\n",
      "INFO:root:Training iteration 6200 of 10000\n"
     ]
    },
    {
     "name": "stdout",
     "output_type": "stream",
     "text": [
      "iter 6199\ttrain gen cost\t1.013185739517212\ttrain disc cost\t1.0804028511047363\ttime\t0.05142876625061035\n"
     ]
    },
    {
     "name": "stderr",
     "output_type": "stream",
     "text": [
      "INFO:root:Saving fake samples to png.\n",
      "INFO:root:Training iteration 6300 of 10000\n"
     ]
    },
    {
     "name": "stdout",
     "output_type": "stream",
     "text": [
      "iter 6299\ttrain gen cost\t1.0056074857711792\ttrain disc cost\t1.0724231004714966\ttime\t0.062255771160125734\n"
     ]
    },
    {
     "name": "stderr",
     "output_type": "stream",
     "text": [
      "INFO:root:Saving fake samples to png.\n",
      "INFO:root:Training iteration 6400 of 10000\n"
     ]
    },
    {
     "name": "stdout",
     "output_type": "stream",
     "text": [
      "iter 6399\ttrain gen cost\t1.0056074857711792\ttrain disc cost\t1.0661205053329468\ttime\t0.050723543167114256\n"
     ]
    },
    {
     "name": "stderr",
     "output_type": "stream",
     "text": [
      "INFO:root:Saving fake samples to png.\n",
      "INFO:root:Training iteration 6500 of 10000\n"
     ]
    },
    {
     "name": "stdout",
     "output_type": "stream",
     "text": [
      "iter 6499\ttrain gen cost\t1.0032553672790527\ttrain disc cost\t1.0649440288543701\ttime\t0.06195740699768067\n"
     ]
    },
    {
     "name": "stderr",
     "output_type": "stream",
     "text": [
      "INFO:root:Saving fake samples to png.\n",
      "INFO:root:Training iteration 6600 of 10000\n"
     ]
    },
    {
     "name": "stdout",
     "output_type": "stream",
     "text": [
      "iter 6599\ttrain gen cost\t1.0059406757354736\ttrain disc cost\t1.0578593015670776\ttime\t0.05045472860336304\n"
     ]
    },
    {
     "name": "stderr",
     "output_type": "stream",
     "text": [
      "INFO:root:Saving fake samples to png.\n",
      "INFO:root:Training iteration 6700 of 10000\n"
     ]
    },
    {
     "name": "stdout",
     "output_type": "stream",
     "text": [
      "iter 6699\ttrain gen cost\t1.0115638971328735\ttrain disc cost\t1.0616447925567627\ttime\t0.0626529335975647\n"
     ]
    },
    {
     "name": "stderr",
     "output_type": "stream",
     "text": [
      "INFO:root:Saving fake samples to png.\n",
      "INFO:root:Training iteration 6800 of 10000\n"
     ]
    },
    {
     "name": "stdout",
     "output_type": "stream",
     "text": [
      "iter 6799\ttrain gen cost\t1.0029754638671875\ttrain disc cost\t1.0706959962844849\ttime\t0.054795773029327394\n"
     ]
    },
    {
     "name": "stderr",
     "output_type": "stream",
     "text": [
      "INFO:root:Saving fake samples to png.\n",
      "INFO:root:Training iteration 6900 of 10000\n"
     ]
    },
    {
     "name": "stdout",
     "output_type": "stream",
     "text": [
      "iter 6899\ttrain gen cost\t1.0057177543640137\ttrain disc cost\t1.067126750946045\ttime\t0.061723031997680665\n"
     ]
    },
    {
     "name": "stderr",
     "output_type": "stream",
     "text": [
      "INFO:root:Saving fake samples to png.\n",
      "INFO:root:Training iteration 7000 of 10000\n"
     ]
    },
    {
     "name": "stdout",
     "output_type": "stream",
     "text": [
      "iter 6999\ttrain gen cost\t1.003529667854309\ttrain disc cost\t1.0664163827896118\ttime\t0.05420761823654175\n"
     ]
    },
    {
     "name": "stderr",
     "output_type": "stream",
     "text": [
      "INFO:root:Saving fake samples to png.\n",
      "INFO:root:Training iteration 7100 of 10000\n"
     ]
    },
    {
     "name": "stdout",
     "output_type": "stream",
     "text": [
      "iter 7099\ttrain gen cost\t1.0030741691589355\ttrain disc cost\t1.059248685836792\ttime\t0.058451876640319825\n"
     ]
    },
    {
     "name": "stderr",
     "output_type": "stream",
     "text": [
      "INFO:root:Saving fake samples to png.\n",
      "INFO:root:Training iteration 7200 of 10000\n"
     ]
    },
    {
     "name": "stdout",
     "output_type": "stream",
     "text": [
      "iter 7199\ttrain gen cost\t1.0080766677856445\ttrain disc cost\t1.0642932653427124\ttime\t0.05619114637374878\n"
     ]
    },
    {
     "name": "stderr",
     "output_type": "stream",
     "text": [
      "INFO:root:Saving fake samples to png.\n",
      "INFO:root:Training iteration 7300 of 10000\n"
     ]
    },
    {
     "name": "stdout",
     "output_type": "stream",
     "text": [
      "iter 7299\ttrain gen cost\t1.0057430267333984\ttrain disc cost\t1.0662940740585327\ttime\t0.0561524510383606\n"
     ]
    },
    {
     "name": "stderr",
     "output_type": "stream",
     "text": [
      "INFO:root:Saving fake samples to png.\n",
      "INFO:root:Training iteration 7400 of 10000\n"
     ]
    },
    {
     "name": "stdout",
     "output_type": "stream",
     "text": [
      "iter 7399\ttrain gen cost\t1.0074360370635986\ttrain disc cost\t1.0744941234588623\ttime\t0.05821049451828003\n"
     ]
    },
    {
     "name": "stderr",
     "output_type": "stream",
     "text": [
      "INFO:root:Saving fake samples to png.\n",
      "INFO:root:Training iteration 7500 of 10000\n"
     ]
    },
    {
     "name": "stdout",
     "output_type": "stream",
     "text": [
      "iter 7499\ttrain gen cost\t1.0034358501434326\ttrain disc cost\t1.0630524158477783\ttime\t0.05398942470550537\n"
     ]
    },
    {
     "name": "stderr",
     "output_type": "stream",
     "text": [
      "INFO:root:Saving fake samples to png.\n",
      "INFO:root:Training iteration 7600 of 10000\n"
     ]
    },
    {
     "name": "stdout",
     "output_type": "stream",
     "text": [
      "iter 7599\ttrain gen cost\t1.0081924200057983\ttrain disc cost\t1.062392234802246\ttime\t0.0644042992591858\n"
     ]
    },
    {
     "name": "stderr",
     "output_type": "stream",
     "text": [
      "INFO:root:Saving fake samples to png.\n",
      "INFO:root:Training iteration 7700 of 10000\n"
     ]
    },
    {
     "name": "stdout",
     "output_type": "stream",
     "text": [
      "iter 7699\ttrain gen cost\t1.0101081132888794\ttrain disc cost\t1.0586951971054077\ttime\t0.05344136953353882\n"
     ]
    },
    {
     "name": "stderr",
     "output_type": "stream",
     "text": [
      "INFO:root:Saving fake samples to png.\n",
      "INFO:root:Training iteration 7800 of 10000\n"
     ]
    },
    {
     "name": "stdout",
     "output_type": "stream",
     "text": [
      "iter 7799\ttrain gen cost\t1.0099629163742065\ttrain disc cost\t1.064134955406189\ttime\t0.06136902093887329\n"
     ]
    },
    {
     "name": "stderr",
     "output_type": "stream",
     "text": [
      "INFO:root:Saving fake samples to png.\n",
      "INFO:root:Training iteration 7900 of 10000\n"
     ]
    },
    {
     "name": "stdout",
     "output_type": "stream",
     "text": [
      "iter 7899\ttrain gen cost\t1.0188642740249634\ttrain disc cost\t1.0626978874206543\ttime\t0.05058726787567139\n"
     ]
    },
    {
     "name": "stderr",
     "output_type": "stream",
     "text": [
      "INFO:root:Saving fake samples to png.\n",
      "INFO:root:Training iteration 8000 of 10000\n"
     ]
    },
    {
     "name": "stdout",
     "output_type": "stream",
     "text": [
      "iter 7999\ttrain gen cost\t1.0123580694198608\ttrain disc cost\t1.0794200897216797\ttime\t0.06163950681686401\n"
     ]
    },
    {
     "name": "stderr",
     "output_type": "stream",
     "text": [
      "INFO:root:Saving fake samples to png.\n",
      "INFO:root:Training iteration 8100 of 10000\n"
     ]
    },
    {
     "name": "stdout",
     "output_type": "stream",
     "text": [
      "iter 8099\ttrain gen cost\t1.0018399953842163\ttrain disc cost\t1.071036458015442\ttime\t0.0504727840423584\n"
     ]
    },
    {
     "name": "stderr",
     "output_type": "stream",
     "text": [
      "INFO:root:Saving fake samples to png.\n",
      "INFO:root:Training iteration 8200 of 10000\n"
     ]
    },
    {
     "name": "stdout",
     "output_type": "stream",
     "text": [
      "iter 8199\ttrain gen cost\t0.998851478099823\ttrain disc cost\t1.0740622282028198\ttime\t0.06224032878875732\n"
     ]
    },
    {
     "name": "stderr",
     "output_type": "stream",
     "text": [
      "INFO:root:Saving fake samples to png.\n",
      "INFO:root:Training iteration 8300 of 10000\n"
     ]
    },
    {
     "name": "stdout",
     "output_type": "stream",
     "text": [
      "iter 8299\ttrain gen cost\t1.006905436515808\ttrain disc cost\t1.0594290494918823\ttime\t0.050873022079467776\n"
     ]
    },
    {
     "name": "stderr",
     "output_type": "stream",
     "text": [
      "INFO:root:Saving fake samples to png.\n",
      "INFO:root:Training iteration 8400 of 10000\n"
     ]
    },
    {
     "name": "stdout",
     "output_type": "stream",
     "text": [
      "iter 8399\ttrain gen cost\t1.0081321001052856\ttrain disc cost\t1.0747511386871338\ttime\t0.061884019374847415\n"
     ]
    },
    {
     "name": "stderr",
     "output_type": "stream",
     "text": [
      "INFO:root:Saving fake samples to png.\n",
      "INFO:root:Training iteration 8500 of 10000\n"
     ]
    },
    {
     "name": "stdout",
     "output_type": "stream",
     "text": [
      "iter 8499\ttrain gen cost\t1.0089232921600342\ttrain disc cost\t1.0678627490997314\ttime\t0.05114316463470459\n"
     ]
    },
    {
     "name": "stderr",
     "output_type": "stream",
     "text": [
      "INFO:root:Saving fake samples to png.\n",
      "INFO:root:Training iteration 8600 of 10000\n"
     ]
    },
    {
     "name": "stdout",
     "output_type": "stream",
     "text": [
      "iter 8599\ttrain gen cost\t1.0112252235412598\ttrain disc cost\t1.0728583335876465\ttime\t0.061045165061950686\n"
     ]
    },
    {
     "name": "stderr",
     "output_type": "stream",
     "text": [
      "INFO:root:Saving fake samples to png.\n",
      "INFO:root:Training iteration 8700 of 10000\n"
     ]
    },
    {
     "name": "stdout",
     "output_type": "stream",
     "text": [
      "iter 8699\ttrain gen cost\t1.0088717937469482\ttrain disc cost\t1.0735992193222046\ttime\t0.05449022769927978\n"
     ]
    },
    {
     "name": "stderr",
     "output_type": "stream",
     "text": [
      "INFO:root:Saving fake samples to png.\n",
      "INFO:root:Training iteration 8800 of 10000\n"
     ]
    },
    {
     "name": "stdout",
     "output_type": "stream",
     "text": [
      "iter 8799\ttrain gen cost\t1.0081557035446167\ttrain disc cost\t1.0745649337768555\ttime\t0.05816253662109375\n"
     ]
    },
    {
     "name": "stderr",
     "output_type": "stream",
     "text": [
      "INFO:root:Saving fake samples to png.\n",
      "INFO:root:Training iteration 8900 of 10000\n"
     ]
    },
    {
     "name": "stdout",
     "output_type": "stream",
     "text": [
      "iter 8899\ttrain gen cost\t1.0134061574935913\ttrain disc cost\t1.0587669610977173\ttime\t0.056206939220428465\n"
     ]
    },
    {
     "name": "stderr",
     "output_type": "stream",
     "text": [
      "INFO:root:Saving fake samples to png.\n",
      "INFO:root:Training iteration 9000 of 10000\n"
     ]
    },
    {
     "name": "stdout",
     "output_type": "stream",
     "text": [
      "iter 8999\ttrain gen cost\t1.012656807899475\ttrain disc cost\t1.086921215057373\ttime\t0.05716787815093994\n"
     ]
    },
    {
     "name": "stderr",
     "output_type": "stream",
     "text": [
      "INFO:root:Saving fake samples to png.\n",
      "INFO:root:Training iteration 9100 of 10000\n"
     ]
    },
    {
     "name": "stdout",
     "output_type": "stream",
     "text": [
      "iter 9099\ttrain gen cost\t0.9957441687583923\ttrain disc cost\t1.092118501663208\ttime\t0.06425305366516114\n"
     ]
    },
    {
     "name": "stderr",
     "output_type": "stream",
     "text": [
      "INFO:root:Saving fake samples to png.\n",
      "INFO:root:Training iteration 9200 of 10000\n"
     ]
    },
    {
     "name": "stdout",
     "output_type": "stream",
     "text": [
      "iter 9199\ttrain gen cost\t0.9934208393096924\ttrain disc cost\t1.063647747039795\ttime\t0.054874911308288574\n"
     ]
    },
    {
     "name": "stderr",
     "output_type": "stream",
     "text": [
      "INFO:root:Saving fake samples to png.\n",
      "INFO:root:Training iteration 9300 of 10000\n"
     ]
    },
    {
     "name": "stdout",
     "output_type": "stream",
     "text": [
      "iter 9299\ttrain gen cost\t0.9994329810142517\ttrain disc cost\t1.072764277458191\ttime\t0.060687859058380124\n"
     ]
    },
    {
     "name": "stderr",
     "output_type": "stream",
     "text": [
      "INFO:root:Saving fake samples to png.\n",
      "INFO:root:Training iteration 9400 of 10000\n"
     ]
    },
    {
     "name": "stdout",
     "output_type": "stream",
     "text": [
      "iter 9399\ttrain gen cost\t0.9921592473983765\ttrain disc cost\t1.0737676620483398\ttime\t0.05264449119567871\n"
     ]
    },
    {
     "name": "stderr",
     "output_type": "stream",
     "text": [
      "INFO:root:Saving fake samples to png.\n",
      "INFO:root:Training iteration 9500 of 10000\n"
     ]
    },
    {
     "name": "stdout",
     "output_type": "stream",
     "text": [
      "iter 9499\ttrain gen cost\t0.9949744343757629\ttrain disc cost\t1.0733927488327026\ttime\t0.06189965963363647\n"
     ]
    },
    {
     "name": "stderr",
     "output_type": "stream",
     "text": [
      "INFO:root:Saving fake samples to png.\n",
      "INFO:root:Training iteration 9600 of 10000\n"
     ]
    },
    {
     "name": "stdout",
     "output_type": "stream",
     "text": [
      "iter 9599\ttrain gen cost\t1.004125952720642\ttrain disc cost\t1.0726819038391113\ttime\t0.050836689472198486\n"
     ]
    },
    {
     "name": "stderr",
     "output_type": "stream",
     "text": [
      "INFO:root:Saving fake samples to png.\n",
      "INFO:root:Training iteration 9700 of 10000\n"
     ]
    },
    {
     "name": "stdout",
     "output_type": "stream",
     "text": [
      "iter 9699\ttrain gen cost\t0.9962410926818848\ttrain disc cost\t1.134299874305725\ttime\t0.06231082201004028\n"
     ]
    },
    {
     "name": "stderr",
     "output_type": "stream",
     "text": [
      "INFO:root:Saving fake samples to png.\n",
      "INFO:root:Training iteration 9800 of 10000\n"
     ]
    },
    {
     "name": "stdout",
     "output_type": "stream",
     "text": [
      "iter 9799\ttrain gen cost\t0.9806801080703735\ttrain disc cost\t1.0787734985351562\ttime\t0.05094196319580078\n"
     ]
    },
    {
     "name": "stderr",
     "output_type": "stream",
     "text": [
      "INFO:root:Saving fake samples to png.\n",
      "INFO:root:Training iteration 9900 of 10000\n"
     ]
    },
    {
     "name": "stdout",
     "output_type": "stream",
     "text": [
      "iter 9899\ttrain gen cost\t0.9886741638183594\ttrain disc cost\t1.0844987630844116\ttime\t0.06233331680297852\n"
     ]
    },
    {
     "name": "stderr",
     "output_type": "stream",
     "text": [
      "INFO:root:Saving fake samples to png.\n",
      "DEBUG:root:Training complete.\n"
     ]
    },
    {
     "name": "stdout",
     "output_type": "stream",
     "text": [
      "iter 9999\ttrain gen cost\t0.9970218539237976\ttrain disc cost\t1.0835981369018555\ttime\t0.05077533006668091\n"
     ]
    }
   ],
   "source": [
    "model_dir = './kddcup99_models'\n",
    "if not os.path.exists(model_dir):\n",
    "    os.makedirs(model_dir)\n",
    "\n",
    "batch_size = 64\n",
    "output_dimensions = 121\n",
    "train_iters = 5000\n",
    "plot_save_path = model_dir\n",
    "\n",
    "\n",
    "model = RickAndMorty(batch_size=batch_size, \n",
    "                     output_dimensions=output_dimensions, \n",
    "                     train_iters=train_iters,\n",
    "                     plot_save_path=plot_save_path)\n",
    "\n",
    "detective = RickAndMortyDetective(model_configuration={\n",
    "    'model': model,\n",
    "    'batch_size': batch_size,\n",
    "    'output_dimensions': output_dimensions,\n",
    "    'train_iters': train_iters,\n",
    "    'save_path' : '{}/KDDCup99-model'.format(model_dir),\n",
    "    'plot_save_path': plot_save_path\n",
    "    \n",
    "})\n",
    "\n",
    "detective.train(data_normal_train)"
   ]
  },
  {
   "cell_type": "markdown",
   "metadata": {},
   "source": [
    "## Evaluate results\n",
    "***"
   ]
  },
  {
   "cell_type": "markdown",
   "metadata": {},
   "source": [
    "### Collate ground truth"
   ]
  },
  {
   "cell_type": "code",
   "execution_count": 5,
   "metadata": {},
   "outputs": [],
   "source": [
    "n1 = np.ones(len(data_normal_test.data))\n",
    "n2 = np.zeros(len(data_abnormal_test.data))\n",
    "\n",
    "ground_truth = np.hstack((n1, n2))"
   ]
  },
  {
   "cell_type": "markdown",
   "metadata": {},
   "source": [
    "### Collate detection results"
   ]
  },
  {
   "cell_type": "code",
   "execution_count": 6,
   "metadata": {},
   "outputs": [
    {
     "name": "stderr",
     "output_type": "stream",
     "text": [
      "INFO:root:Running detector on <alphai_watson.datasource.Sample object at 0x7f2b782bfcc0>\n",
      "INFO:root:Detection completed in 0.46172029338777065\n",
      "INFO:root:Running detector on <alphai_watson.datasource.Sample object at 0x7f2b782bfda0>\n",
      "INFO:root:Detection completed in 5.384568218141794\n"
     ]
    }
   ],
   "source": [
    "test_results_normal = detective.detect(data_normal_test).data \n",
    "test_results_abnormal = detective.detect(data_abnormal_test).data \n",
    "\n",
    "predictions = np.hstack((test_results_normal, test_results_abnormal))"
   ]
  },
  {
   "cell_type": "markdown",
   "metadata": {},
   "source": [
    "### Calculate ROC Score"
   ]
  },
  {
   "cell_type": "code",
   "execution_count": 7,
   "metadata": {},
   "outputs": [
    {
     "name": "stdout",
     "output_type": "stream",
     "text": [
      "ROC Score: 0.6672264103468697\n"
     ]
    }
   ],
   "source": [
    "roc_score = GANPerformanceAnalysis({}).analyse(\n",
    "  detection_result=predictions,\n",
    "  expected_truth=ground_truth\n",
    ")\n",
    "\n",
    "print('ROC Score: {}'.format(roc_score))"
   ]
  },
  {
   "cell_type": "markdown",
   "metadata": {},
   "source": [
    "### Calculate training accuracy"
   ]
  },
  {
   "cell_type": "code",
   "execution_count": 8,
   "metadata": {
    "scrolled": true
   },
   "outputs": [],
   "source": [
    "def model_accuracy(data, status, threshold=None):\n",
    "    results = detective.detect(data).data \n",
    "    if threshold is None:\n",
    "        threshold = np.median(results)\n",
    "    ground_truth = [status] * len(results)\n",
    "    prediction = [1 if x >= threshold else 0 for x in results]\n",
    "    print('Accuracy: {0:.2f}%'.format(100*accuracy_score(ground_truth, prediction)))\n",
    "    return threshold"
   ]
  },
  {
   "cell_type": "code",
   "execution_count": 9,
   "metadata": {},
   "outputs": [
    {
     "name": "stderr",
     "output_type": "stream",
     "text": [
      "INFO:root:Running detector on <alphai_watson.datasource.Sample object at 0x7f2b782bfe10>\n",
      "INFO:root:Detection completed in 0.9852741211652756\n"
     ]
    },
    {
     "name": "stdout",
     "output_type": "stream",
     "text": [
      "Accuracy: 50.00%\n"
     ]
    }
   ],
   "source": [
    "threshold = model_accuracy(data_normal_train, 1)"
   ]
  },
  {
   "cell_type": "markdown",
   "metadata": {},
   "source": [
    "### Generate classification report"
   ]
  },
  {
   "cell_type": "code",
   "execution_count": 10,
   "metadata": {},
   "outputs": [
    {
     "name": "stdout",
     "output_type": "stream",
     "text": [
      "              precision    recall  f1-score   support\n",
      "\n",
      "    ABNORMAL       0.95      0.78      0.86    396743\n",
      "      NORMAL       0.14      0.50      0.22     29183\n",
      "\n",
      "   micro avg       0.76      0.76      0.76    425926\n",
      "   macro avg       0.55      0.64      0.54    425926\n",
      "weighted avg       0.90      0.76      0.81    425926\n",
      "\n"
     ]
    }
   ],
   "source": [
    "class_predictions = [1 if x >= threshold else 0 for x in predictions]\n",
    "\n",
    "target_names = ['ABNORMAL', 'NORMAL']\n",
    "print(classification_report(ground_truth, class_predictions, target_names=target_names))"
   ]
  },
  {
   "cell_type": "code",
   "execution_count": null,
   "metadata": {},
   "outputs": [],
   "source": []
  }
 ],
 "metadata": {
  "kernelspec": {
   "display_name": "Python 3",
   "language": "python",
   "name": "python3"
  },
  "language_info": {
   "codemirror_mode": {
    "name": "ipython",
    "version": 3
   },
   "file_extension": ".py",
   "mimetype": "text/x-python",
   "name": "python",
   "nbconvert_exporter": "python",
   "pygments_lexer": "ipython3",
   "version": "3.6.2"
  }
 },
 "nbformat": 4,
 "nbformat_minor": 2
}
