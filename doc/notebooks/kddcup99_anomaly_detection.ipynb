{
 "cells": [
  {
   "cell_type": "code",
   "execution_count": 1,
   "metadata": {},
   "outputs": [
    {
     "name": "stderr",
     "output_type": "stream",
     "text": [
      "/opt/anaconda/envs/ai/lib/python3.6/site-packages/h5py/__init__.py:36: FutureWarning: Conversion of the second argument of issubdtype from `float` to `np.floating` is deprecated. In future, it will be treated as `np.float64 == np.dtype(float).type`.\n",
      "  from ._conv import register_converters as _register_converters\n",
      "/opt/anaconda/envs/ai/lib/python3.6/importlib/_bootstrap.py:205: RuntimeWarning: compiletime version 3.5 of module 'tensorflow.python.framework.fast_tensor_util' does not match runtime version 3.6\n",
      "  return f(*args, **kwds)\n"
     ]
    },
    {
     "name": "stdout",
     "output_type": "stream",
     "text": [
      "Enabling weight norm\n",
      "Uppercase local vars:\n",
      "\tBATCH_SIZE: 50\n",
      "\tCRITIC_ITERS: 5\n",
      "\tDEFAULT_FIT_EPOCHS: 1000\n",
      "\tDEFAULT_LEARN_RATE: 0.0001\n",
      "\tDEFAULT_TRAIN_ITERS: 5000\n",
      "\tDEFAULT_Z_DIM: 128\n",
      "\tDIAGNOSIS_LEARN_RATE: 0.01\n",
      "\tDIM: 64\n",
      "\tDISC_FILTER_SIZE: 5\n",
      "\tLAMBDA: 10\n",
      "\tLAMBDA_2: 2.0\n",
      "\tOUTPUT_DIM: 784\n"
     ]
    }
   ],
   "source": [
    "import os\n",
    "import numpy as np\n",
    "from alphai_watson.datasource.brainwaves import BrainwavesDataSource\n",
    "from alphai_watson.performance import GANPerformanceAnalysis\n",
    "from alphai_watson.transformer import NullTransformer\n",
    "\n",
    "from alphai_rickandmorty_oracle.detective import RickAndMortyDetective"
   ]
  },
  {
   "cell_type": "code",
   "execution_count": 2,
   "metadata": {},
   "outputs": [
    {
     "name": "stderr",
     "output_type": "stream",
     "text": [
      "DEBUG:root:Start file parsing\n",
      "DEBUG:root:end file parsing\n",
      "DEBUG:root:Starting session\n",
      "DEBUG:root:Start training loop...\n",
      "INFO:root:Initialising Model\n",
      "INFO:root:Training iteration 0 of 200\n",
      "DEBUG:matplotlib.font_manager:findfont: Matching :family=sans-serif:style=normal:variant=normal:weight=normal:stretch=normal:size=10.0 to DejaVu Sans ('/opt/anaconda/envs/ai/lib/python3.6/site-packages/matplotlib/mpl-data/fonts/ttf/DejaVuSans.ttf') with score of 0.050000\n"
     ]
    },
    {
     "name": "stdout",
     "output_type": "stream",
     "text": [
      "iter 0\ttrain disc cost\t2783.41357421875\ttime\t1.3952929973602295\n",
      "iter 1\ttrain disc cost\t2996.73779296875\ttime\t0.46152782440185547\n",
      "iter 2\ttrain disc cost\t4892.0732421875\ttime\t0.3380753993988037\n",
      "iter 3\ttrain disc cost\t2903.062744140625\ttime\t0.33823108673095703\n",
      "iter 4\ttrain disc cost\t2871.438720703125\ttime\t0.3393216133117676\n"
     ]
    },
    {
     "name": "stderr",
     "output_type": "stream",
     "text": [
      "INFO:root:Training iteration 10 of 200\n",
      "INFO:root:Training iteration 20 of 200\n",
      "INFO:root:Training iteration 30 of 200\n",
      "INFO:root:Training iteration 40 of 200\n",
      "INFO:root:Training iteration 50 of 200\n",
      "INFO:root:Training iteration 60 of 200\n",
      "INFO:root:Training iteration 70 of 200\n",
      "INFO:root:Training iteration 80 of 200\n",
      "INFO:root:Training iteration 90 of 200\n",
      "INFO:root:Saving fake samples to png: [[0.5030857  0.544858   0.49492484 ... 0.7492131  0.89291406 0.9780945 ]\n",
      " [0.51108694 0.54185027 0.4967971  ... 0.7459993  0.91372037 0.9845627 ]\n",
      " [0.50457805 0.54760975 0.4972567  ... 0.7427397  0.9200184  0.98735166]\n",
      " ...\n",
      " [0.50364536 0.5426374  0.5022158  ... 0.7978005  0.9262187  0.9900357 ]\n",
      " [0.50240666 0.5593554  0.50057614 ... 0.78998625 0.90843993 0.9793297 ]\n",
      " [0.5083872  0.545683   0.50745004 ... 0.7465484  0.8624125  0.9712631 ]]\n",
      "INFO:root:Training iteration 100 of 200\n"
     ]
    },
    {
     "name": "stdout",
     "output_type": "stream",
     "text": [
      "iter 99\ttrain disc cost\t898.237060546875\ttime\t0.33785836320174367\n"
     ]
    },
    {
     "name": "stderr",
     "output_type": "stream",
     "text": [
      "INFO:root:Training iteration 110 of 200\n",
      "INFO:root:Training iteration 120 of 200\n",
      "INFO:root:Training iteration 130 of 200\n",
      "INFO:root:Training iteration 140 of 200\n",
      "INFO:root:Training iteration 150 of 200\n",
      "INFO:root:Training iteration 160 of 200\n",
      "INFO:root:Training iteration 170 of 200\n",
      "INFO:root:Training iteration 180 of 200\n",
      "INFO:root:Training iteration 190 of 200\n",
      "INFO:root:Saving fake samples to png: [[0.5180448  0.66040677 0.51427233 ... 0.9899194  0.9998234  0.9972493 ]\n",
      " [0.52614874 0.65220255 0.5036271  ... 0.99380714 0.99986756 0.99854183]\n",
      " [0.5218376  0.66427636 0.5159245  ... 0.99389476 0.9998958  0.9988256 ]\n",
      " ...\n",
      " [0.51996326 0.65759516 0.5184879  ... 0.99703264 0.9999434  0.9991491 ]\n",
      " [0.5128085  0.6703463  0.51593167 ... 0.9931938  0.99978334 0.9977235 ]\n",
      " [0.5254082  0.65444064 0.52299637 ... 0.9916426  0.99938107 0.99630725]]\n",
      "DEBUG:root:Training complete.\n"
     ]
    },
    {
     "name": "stdout",
     "output_type": "stream",
     "text": [
      "iter 199\ttrain disc cost\t93.08770751953125\ttime\t0.3376935648918152\n"
     ]
    }
   ],
   "source": [
    "test_data_file = os.path.join('../../tests/resources', 'brainwaves_normal_sample_1.hd5')\n",
    "n_sensors = 16\n",
    "n_timesteps = 784 // n_sensors\n",
    "\n",
    "train_data_source = BrainwavesDataSource(source_file=test_data_file,\n",
    "                                         transformer=NullTransformer(number_of_timesteps=n_timesteps, number_of_sensors=n_sensors))\n",
    "\n",
    "train_data = train_data_source.get_train_data('NORMAL')\n",
    "\n",
    "\n",
    "detective = RickAndMortyDetective(model_configuration={\n",
    "    'batch_size': 64,\n",
    "    'output_dimensions': 784,\n",
    "    'train_iters': 200,\n",
    "    'plot_save_path' : './'\n",
    "})\n",
    "\n",
    "detective.train(train_data)"
   ]
  },
  {
   "cell_type": "code",
   "execution_count": 3,
   "metadata": {},
   "outputs": [
    {
     "data": {
      "text/plain": [
       "<alphai_watson.datasource.Sample at 0x7fb64bfcaef0>"
      ]
     },
     "execution_count": 3,
     "metadata": {},
     "output_type": "execute_result"
    }
   ],
   "source": [
    "train_data"
   ]
  }
 ],
 "metadata": {
  "kernelspec": {
   "display_name": "Python 3",
   "language": "python",
   "name": "python3"
  },
  "language_info": {
   "codemirror_mode": {
    "name": "ipython",
    "version": 3
   },
   "file_extension": ".py",
   "mimetype": "text/x-python",
   "name": "python",
   "nbconvert_exporter": "python",
   "pygments_lexer": "ipython3",
   "version": "3.6.2"
  }
 },
 "nbformat": 4,
 "nbformat_minor": 2
}
