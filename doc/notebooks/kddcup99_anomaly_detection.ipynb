{
 "cells": [
  {
   "cell_type": "code",
   "execution_count": 1,
   "metadata": {},
   "outputs": [
    {
     "name": "stderr",
     "output_type": "stream",
     "text": [
      "/opt/anaconda/envs/ai/lib/python3.6/site-packages/h5py/__init__.py:36: FutureWarning: Conversion of the second argument of issubdtype from `float` to `np.floating` is deprecated. In future, it will be treated as `np.float64 == np.dtype(float).type`.\n",
      "  from ._conv import register_converters as _register_converters\n",
      "/opt/anaconda/envs/ai/lib/python3.6/importlib/_bootstrap.py:205: RuntimeWarning: compiletime version 3.5 of module 'tensorflow.python.framework.fast_tensor_util' does not match runtime version 3.6\n",
      "  return f(*args, **kwds)\n"
     ]
    },
    {
     "name": "stdout",
     "output_type": "stream",
     "text": [
      "Enabling weight norm\n",
      "Uppercase local vars:\n",
      "\tBATCH_SIZE: 50\n",
      "\tCRITIC_ITERS: 5\n",
      "\tDEFAULT_FIT_EPOCHS: 1000\n",
      "\tDEFAULT_LEARN_RATE: 0.0001\n",
      "\tDEFAULT_TRAIN_ITERS: 5000\n",
      "\tDEFAULT_Z_DIM: 128\n",
      "\tDIAGNOSIS_LEARN_RATE: 0.01\n",
      "\tDIM: 64\n",
      "\tDISC_FILTER_SIZE: 5\n",
      "\tLAMBDA: 10\n",
      "\tLAMBDA_2: 2.0\n",
      "\tOUTPUT_DIM: 784\n"
     ]
    }
   ],
   "source": [
    "import os\n",
    "import numpy as np\n",
    "from alphai_watson.datasource.brainwaves import BrainwavesDataSource\n",
    "from alphai_watson.performance import GANPerformanceAnalysis\n",
    "from alphai_watson.transformer import NullTransformer\n",
    "\n",
    "from alphai_rickandmorty_oracle.detective import RickAndMortyDetective"
   ]
  },
  {
   "cell_type": "code",
   "execution_count": 2,
   "metadata": {},
   "outputs": [
    {
     "name": "stdout",
     "output_type": "stream",
     "text": [
      "Keys: KeysView(<HDF5 file \"brainwaves_normal_sample_1.hd5\" (mode r)>)\n"
     ]
    },
    {
     "data": {
      "text/plain": [
       "['DATA', 'SAMPLE_RATE']"
      ]
     },
     "execution_count": 2,
     "metadata": {},
     "output_type": "execute_result"
    }
   ],
   "source": [
    "import h5py\n",
    "filename = os.path.join('../../tests/resources', 'brainwaves_normal_sample_1.hd5')\n",
    "f = h5py.File(filename, 'r')\n",
    "\n",
    "# List all groups\n",
    "print(\"Keys: %s\" % f.keys())\n",
    "a_group_key = list(f.keys())[0]\n",
    "\n",
    "# Get the data\n",
    "data = list(f[a_group_key])\n",
    "data"
   ]
  },
  {
   "cell_type": "code",
   "execution_count": 13,
   "metadata": {},
   "outputs": [
    {
     "name": "stderr",
     "output_type": "stream",
     "text": [
      "DEBUG:root:Start file parsing\n",
      "DEBUG:root:end file parsing\n"
     ]
    },
    {
     "data": {
      "text/plain": [
       "(4892, 8, 98)"
      ]
     },
     "execution_count": 13,
     "metadata": {},
     "output_type": "execute_result"
    }
   ],
   "source": [
    "test_data_file = os.path.join('../../tests/resources', 'brainwaves_normal_sample_1.hd5')\n",
    "n_sensors = 16\n",
    "n_timesteps = 784 // n_sensors\n",
    "\n",
    "train_data_source = BrainwavesDataSource(source_file=test_data_file,\n",
    "                                         transformer=NullTransformer(number_of_timesteps=n_timesteps, \n",
    "                                                                     number_of_sensors=n_sensors))\n",
    "\n",
    "train_data = train_data_source.get_train_data('NORMAL')\n",
    "\n",
    "train_data.data.shape\n"
   ]
  },
  {
   "cell_type": "code",
   "execution_count": 6,
   "metadata": {},
   "outputs": [
    {
     "data": {
      "text/plain": [
       "(29970, 16, 8)"
      ]
     },
     "execution_count": 6,
     "metadata": {},
     "output_type": "execute_result"
    }
   ],
   "source": [
    "train_data.data.shape"
   ]
  },
  {
   "cell_type": "code",
   "execution_count": null,
   "metadata": {},
   "outputs": [],
   "source": [
    "detective = RickAndMortyDetective(model_configuration={\n",
    "    'batch_size': 64,\n",
    "    'output_dimensions': 784,\n",
    "    'train_iters': 200,\n",
    "    'plot_save_path' : './'\n",
    "})\n",
    "\n",
    "detective.train(train_data)"
   ]
  },
  {
   "cell_type": "code",
   "execution_count": null,
   "metadata": {},
   "outputs": [],
   "source": []
  }
 ],
 "metadata": {
  "kernelspec": {
   "display_name": "Python 3",
   "language": "python",
   "name": "python3"
  },
  "language_info": {
   "codemirror_mode": {
    "name": "ipython",
    "version": 3
   },
   "file_extension": ".py",
   "mimetype": "text/x-python",
   "name": "python",
   "nbconvert_exporter": "python",
   "pygments_lexer": "ipython3",
   "version": "3.6.2"
  }
 },
 "nbformat": 4,
 "nbformat_minor": 2
}
