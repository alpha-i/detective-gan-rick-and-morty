{
 "cells": [
  {
   "cell_type": "markdown",
   "metadata": {},
   "source": [
    "## Load libraries"
   ]
  },
  {
   "cell_type": "code",
   "execution_count": 1,
   "metadata": {},
   "outputs": [
    {
     "name": "stderr",
     "output_type": "stream",
     "text": [
      "/opt/anaconda/envs/ai/lib/python3.6/importlib/_bootstrap.py:205: RuntimeWarning: compiletime version 3.5 of module 'tensorflow.python.framework.fast_tensor_util' does not match runtime version 3.6\n",
      "  return f(*args, **kwds)\n",
      "/opt/anaconda/envs/ai/lib/python3.6/site-packages/h5py/__init__.py:36: FutureWarning: Conversion of the second argument of issubdtype from `float` to `np.floating` is deprecated. In future, it will be treated as `np.float64 == np.dtype(float).type`.\n",
      "  from ._conv import register_converters as _register_converters\n"
     ]
    },
    {
     "name": "stdout",
     "output_type": "stream",
     "text": [
      "Enabling weight norm\n",
      "Uppercase local vars:\n",
      "\tBATCH_SIZE: 50\n",
      "\tCRITIC_ITERS: 5\n",
      "\tDEFAULT_FIT_EPOCHS: 1000\n",
      "\tDEFAULT_LEARN_RATE: 0.0001\n",
      "\tDEFAULT_TRAIN_ITERS: 5000\n",
      "\tDEFAULT_Z_DIM: 32\n",
      "\tDIAGNOSIS_LEARN_RATE: 0.01\n",
      "\tDIM: 64\n",
      "\tDISC_FILTER_SIZE: 5\n",
      "\tINIT_KERNEL: <function variance_scaling_initializer.<locals>._initializer at 0x7f11ef276488>\n",
      "\tLAMBDA: 10\n",
      "\tLAMBDA_2: 2.0\n",
      "\tOUTPUT_DIM: 121\n"
     ]
    }
   ],
   "source": [
    "import os\n",
    "import pandas as pd\n",
    "import numpy as np\n",
    "from sklearn.metrics import accuracy_score\n",
    "\n",
    "from alphai_watson.transformer import NullTransformer\n",
    "\n",
    "from alphai_rickandmorty_oracle.datasource.kddcup99 import KDDCup99DataSource\n",
    "from alphai_rickandmorty_oracle.detective import RickAndMortyDetective"
   ]
  },
  {
   "cell_type": "markdown",
   "metadata": {},
   "source": [
    "## Define KDDCup99 Datasource"
   ]
  },
  {
   "cell_type": "code",
   "execution_count": 2,
   "metadata": {},
   "outputs": [
    {
     "name": "stderr",
     "output_type": "stream",
     "text": [
      "DEBUG:root:Start file parsing.\n",
      "DEBUG:root:Normal (97278, 122); Train (68095, 121); Test(29183, 121)\n",
      "DEBUG:root:Abnormal (396743, 121)\n",
      "DEBUG:root:End file parsing.\n"
     ]
    }
   ],
   "source": [
    "file_path = '../../tests/resources'\n",
    "data_filename = os.path.join(file_path, 'kddcup.data_10_percent_corrected')\n",
    "header_filename = os.path.join(file_path, 'kddcup.names')\n",
    "\n",
    "kdd_datasource = KDDCup99DataSource(source_file=data_filename,\n",
    "                                    header_file=header_filename,\n",
    "                                    transformer=NullTransformer(8, 8))"
   ]
  },
  {
   "cell_type": "code",
   "execution_count": 3,
   "metadata": {},
   "outputs": [],
   "source": [
    "data_normal_train = kdd_datasource.get_train_data('NORMAL')\n",
    "data_normal_test = kdd_datasource.get_train_data('NORMAL_TEST')\n",
    "data_abnormal_test = kdd_datasource.get_train_data('ABNORMAL_TEST')"
   ]
  },
  {
   "cell_type": "markdown",
   "metadata": {},
   "source": [
    "## Define Model"
   ]
  },
  {
   "cell_type": "code",
   "execution_count": 4,
   "metadata": {
    "scrolled": true
   },
   "outputs": [
    {
     "name": "stderr",
     "output_type": "stream",
     "text": [
      "DEBUG:root:Starting session\n",
      "DEBUG:root:Start training loop...\n",
      "INFO:root:Initialising Model\n",
      "INFO:root:Training iteration 0 of 1000\n",
      "INFO:root:Training iteration 100 of 1000\n",
      "INFO:root:Training iteration 200 of 1000\n",
      "INFO:root:Training iteration 300 of 1000\n",
      "INFO:root:Training iteration 400 of 1000\n",
      "INFO:root:Training iteration 500 of 1000\n",
      "INFO:root:Training iteration 600 of 1000\n",
      "INFO:root:Training iteration 700 of 1000\n",
      "INFO:root:Training iteration 800 of 1000\n",
      "INFO:root:Training iteration 900 of 1000\n",
      "DEBUG:root:Training complete.\n"
     ]
    }
   ],
   "source": [
    "model_dir = './kddcup99_models'\n",
    "if not os.path.exists(model_dir):\n",
    "    os.makedirs(model_dir)\n",
    "\n",
    "detective = RickAndMortyDetective(model_configuration={\n",
    "    'batch_size': 64,\n",
    "    'output_dimensions': 121,\n",
    "    'train_iters': 1000,\n",
    "    'save_path' : '{}/KDDCup99-model'.format(model_dir)\n",
    "})\n",
    "\n",
    "detective.train(data_normal_train)"
   ]
  },
  {
   "cell_type": "markdown",
   "metadata": {},
   "source": [
    "## Evaluate results"
   ]
  },
  {
   "cell_type": "markdown",
   "metadata": {},
   "source": [
    "#### Train data (Normal)"
   ]
  },
  {
   "cell_type": "code",
   "execution_count": 5,
   "metadata": {
    "scrolled": true
   },
   "outputs": [],
   "source": [
    "def model_accuracy(data, status, mean=None):\n",
    "    eval = detective.detect(data).data * -1\n",
    "    if mean is None:\n",
    "        mean = np.median(eval)\n",
    "    ground_truth = [status] * len(eval)\n",
    "    prediction = [1 if x >= mean else 0 for x in eval]\n",
    "    print('Accuracy: {0:.2f}%'.format(100*accuracy_score(ground_truth, prediction)))\n",
    "    return mean"
   ]
  },
  {
   "cell_type": "code",
   "execution_count": 6,
   "metadata": {},
   "outputs": [
    {
     "name": "stderr",
     "output_type": "stream",
     "text": [
      "INFO:root:Running detector on <alphai_watson.datasource.Sample object at 0x7f11a8c9c2b0>\n",
      "INFO:root:Detection completed in 1.076493689790368\n"
     ]
    },
    {
     "name": "stdout",
     "output_type": "stream",
     "text": [
      "Accuracy: 50.00%\n"
     ]
    }
   ],
   "source": [
    "mean = model_accuracy(data_normal_train, 1)"
   ]
  },
  {
   "cell_type": "markdown",
   "metadata": {},
   "source": [
    "#### Test data (Normal)"
   ]
  },
  {
   "cell_type": "code",
   "execution_count": 7,
   "metadata": {},
   "outputs": [
    {
     "name": "stderr",
     "output_type": "stream",
     "text": [
      "INFO:root:Running detector on <alphai_watson.datasource.Sample object at 0x7f11a8c9c278>\n",
      "INFO:root:Detection completed in 0.4512240421026945\n"
     ]
    },
    {
     "name": "stdout",
     "output_type": "stream",
     "text": [
      "Accuracy: 49.55%\n"
     ]
    }
   ],
   "source": [
    "_ = model_accuracy(data_normal_test, 1, mean)"
   ]
  },
  {
   "cell_type": "markdown",
   "metadata": {},
   "source": [
    "#### Test data (Abnormal)"
   ]
  },
  {
   "cell_type": "code",
   "execution_count": 8,
   "metadata": {},
   "outputs": [
    {
     "name": "stderr",
     "output_type": "stream",
     "text": [
      "INFO:root:Running detector on <alphai_watson.datasource.Sample object at 0x7f11a8c9c2e8>\n",
      "INFO:root:Detection completed in 5.190419405698776\n"
     ]
    },
    {
     "name": "stdout",
     "output_type": "stream",
     "text": [
      "Accuracy: 76.86%\n"
     ]
    }
   ],
   "source": [
    "_ = model_accuracy(data_abnormal_test, 0, mean)"
   ]
  },
  {
   "cell_type": "code",
   "execution_count": null,
   "metadata": {},
   "outputs": [],
   "source": []
  }
 ],
 "metadata": {
  "kernelspec": {
   "display_name": "Python 3",
   "language": "python",
   "name": "python3"
  },
  "language_info": {
   "codemirror_mode": {
    "name": "ipython",
    "version": 3
   },
   "file_extension": ".py",
   "mimetype": "text/x-python",
   "name": "python",
   "nbconvert_exporter": "python",
   "pygments_lexer": "ipython3",
   "version": "3.6.2"
  }
 },
 "nbformat": 4,
 "nbformat_minor": 2
}
