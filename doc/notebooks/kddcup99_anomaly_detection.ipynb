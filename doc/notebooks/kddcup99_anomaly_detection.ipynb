{
 "cells": [
  {
   "cell_type": "markdown",
   "metadata": {},
   "source": [
    "## Load libraries"
   ]
  },
  {
   "cell_type": "code",
   "execution_count": null,
   "metadata": {},
   "outputs": [],
   "source": [
    "import os\n",
    "import logging\n",
    "\n",
    "import numpy as np\n",
    "from sklearn.metrics import accuracy_score, classification_report\n",
    "\n",
    "from alphai_watson.performance import GANPerformanceAnalysis\n",
    "from alphai_watson.transformer import NullTransformer\n",
    "from alphai_rickandmorty_oracle.datasource.kddcup99 import KDDCup99DataSource\n",
    "from alphai_rickandmorty_oracle.detective import RickAndMortyDetective\n",
    "from alphai_rickandmorty_oracle.model import RickAndMorty\n",
    "\n",
    "from alphai_rickandmorty_oracle.networks.kddcup99 import KDDCup99GanArchitecture\n",
    "\n",
    "logger = logging.getLogger()\n",
    "logger.setLevel(logging.CRITICAL)"
   ]
  },
  {
   "cell_type": "markdown",
   "metadata": {},
   "source": [
    "## Define KDDCup99 Datasource"
   ]
  },
  {
   "cell_type": "code",
   "execution_count": null,
   "metadata": {},
   "outputs": [],
   "source": [
    "file_path = '../../tests/resources'\n",
    "data_filename = os.path.join(file_path, 'kddcup.data_10_percent_corrected')\n",
    "header_filename = os.path.join(file_path, 'kddcup.names')\n",
    "\n",
    "kdd_datasource = KDDCup99DataSource(source_file=data_filename,\n",
    "                                    header_file=header_filename,\n",
    "                                    transformer=NullTransformer(8, 8))\n",
    "\n",
    "data_normal_train = kdd_datasource.get_train_data('NORMAL')\n",
    "data_normal_test = kdd_datasource.get_train_data('NORMAL_TEST')\n",
    "data_abnormal_test = kdd_datasource.get_train_data('ABNORMAL_TEST')"
   ]
  },
  {
   "cell_type": "markdown",
   "metadata": {},
   "source": [
    "## Define Model"
   ]
  },
  {
   "cell_type": "code",
   "execution_count": null,
   "metadata": {
    "scrolled": true
   },
   "outputs": [],
   "source": [
    "model_dir = './kddcup99_models'\n",
    "if not os.path.exists(model_dir):\n",
    "    os.makedirs(model_dir)\n",
    "\n",
    "batch_size = 64\n",
    "output_dimensions = 121\n",
    "plot_dimensions = (11, 11)\n",
    "train_iters = 100\n",
    "plot_save_path = model_dir\n",
    "\n",
    "architecture = KDDCup99GanArchitecture(output_dimensions, plot_dimensions)\n",
    "\n",
    "model = RickAndMorty(architecture=architecture,\n",
    "                     batch_size=batch_size,\n",
    "                     train_iters=train_iters,\n",
    "                     plot_save_path=plot_save_path)\n",
    "\n",
    "detective = RickAndMortyDetective(model_configuration={\n",
    "    'model': model,\n",
    "    'batch_size': model.batch_size,\n",
    "    'output_dimensions': model.architecture.output_dimensions,\n",
    "    'save_path' : '{}/KDDCup99-model'.format(model_dir),\n",
    "    'plot_save_path': plot_save_path\n",
    "    \n",
    "})"
   ]
  },
  {
   "cell_type": "markdown",
   "metadata": {},
   "source": [
    "### Train"
   ]
  },
  {
   "cell_type": "code",
   "execution_count": null,
   "metadata": {},
   "outputs": [],
   "source": [
    "detective.train(data_normal_train)"
   ]
  },
  {
   "cell_type": "markdown",
   "metadata": {},
   "source": [
    "## Evaluate results\n",
    "***"
   ]
  },
  {
   "cell_type": "markdown",
   "metadata": {},
   "source": [
    "### Collate ground truth"
   ]
  },
  {
   "cell_type": "code",
   "execution_count": null,
   "metadata": {},
   "outputs": [],
   "source": [
    "n1 = np.ones(len(data_normal_test.data))\n",
    "n2 = np.zeros(len(data_abnormal_test.data))\n",
    "\n",
    "ground_truth = np.hstack((n1, n2))"
   ]
  },
  {
   "cell_type": "markdown",
   "metadata": {},
   "source": [
    "### Collate detection results"
   ]
  },
  {
   "cell_type": "code",
   "execution_count": null,
   "metadata": {},
   "outputs": [],
   "source": [
    "test_results_normal = detective.detect(data_normal_test).data \n",
    "test_results_abnormal = detective.detect(data_abnormal_test).data \n",
    "\n",
    "predictions = np.hstack((test_results_normal, test_results_abnormal))"
   ]
  },
  {
   "cell_type": "markdown",
   "metadata": {},
   "source": [
    "### Calculate ROC Score"
   ]
  },
  {
   "cell_type": "code",
   "execution_count": null,
   "metadata": {},
   "outputs": [],
   "source": [
    "roc_score = GANPerformanceAnalysis({}).analyse(\n",
    "  detection_result=predictions,\n",
    "  expected_truth=ground_truth\n",
    ")\n",
    "\n",
    "print('ROC Score: {}'.format(roc_score))"
   ]
  },
  {
   "cell_type": "markdown",
   "metadata": {},
   "source": [
    "### Calculate training accuracy"
   ]
  },
  {
   "cell_type": "code",
   "execution_count": null,
   "metadata": {
    "scrolled": true
   },
   "outputs": [],
   "source": [
    "def model_accuracy(data, status, threshold=None):\n",
    "    results = detective.detect(data).data \n",
    "    if threshold is None:\n",
    "        threshold = np.median(results)\n",
    "    ground_truth = [status] * len(results)\n",
    "    prediction = [1 if x >= threshold else 0 for x in results]\n",
    "    print('Accuracy: {0:.2f}%'.format(100*accuracy_score(ground_truth, prediction)))\n",
    "    return threshold"
   ]
  },
  {
   "cell_type": "code",
   "execution_count": null,
   "metadata": {},
   "outputs": [],
   "source": [
    "threshold = model_accuracy(data_normal_train, 1)"
   ]
  },
  {
   "cell_type": "markdown",
   "metadata": {},
   "source": [
    "### Generate classification report"
   ]
  },
  {
   "cell_type": "code",
   "execution_count": null,
   "metadata": {},
   "outputs": [],
   "source": [
    "class_predictions = [1 if x >= threshold else 0 for x in predictions]\n",
    "\n",
    "target_names = ['ABNORMAL', 'NORMAL']\n",
    "print(classification_report(ground_truth, class_predictions, target_names=target_names))"
   ]
  },
  {
   "cell_type": "code",
   "execution_count": null,
   "metadata": {},
   "outputs": [],
   "source": []
  }
 ],
 "metadata": {
  "kernelspec": {
   "display_name": "Python (rickmorty)",
   "language": "python",
   "name": "rickmorty"
  },
  "language_info": {
   "codemirror_mode": {
    "name": "ipython",
    "version": 3
   },
   "file_extension": ".py",
   "mimetype": "text/x-python",
   "name": "python",
   "nbconvert_exporter": "python",
   "pygments_lexer": "ipython3",
   "version": "3.5.6"
  }
 },
 "nbformat": 4,
 "nbformat_minor": 2
}
