{
 "cells": [
  {
   "cell_type": "markdown",
   "metadata": {},
   "source": [
    "## Load libraries"
   ]
  },
  {
   "cell_type": "code",
   "execution_count": 1,
   "metadata": {},
   "outputs": [
    {
     "name": "stderr",
     "output_type": "stream",
     "text": [
      "/opt/anaconda/envs/ai/lib/python3.6/importlib/_bootstrap.py:205: RuntimeWarning: compiletime version 3.5 of module 'tensorflow.python.framework.fast_tensor_util' does not match runtime version 3.6\n",
      "  return f(*args, **kwds)\n",
      "/opt/anaconda/envs/ai/lib/python3.6/site-packages/h5py/__init__.py:36: FutureWarning: Conversion of the second argument of issubdtype from `float` to `np.floating` is deprecated. In future, it will be treated as `np.float64 == np.dtype(float).type`.\n",
      "  from ._conv import register_converters as _register_converters\n",
      "DEBUG:matplotlib:CACHEDIR=/home/ubuntu/.cache/matplotlib\n",
      "DEBUG:matplotlib.font_manager:Using fontManager instance from /home/ubuntu/.cache/matplotlib/fontList.json\n",
      "DEBUG:matplotlib.backends:backend agg version v2.2\n"
     ]
    },
    {
     "name": "stdout",
     "output_type": "stream",
     "text": [
      "Enabling weight norm\n",
      "Uppercase local vars:\n",
      "\tBATCH_SIZE: 50\n",
      "\tCRITIC_ITERS: 5\n",
      "\tDEFAULT_FIT_EPOCHS: 1000\n",
      "\tDEFAULT_LEARN_RATE: 0.0001\n",
      "\tDEFAULT_TRAIN_ITERS: 5000\n",
      "\tDEFAULT_Z_DIM: 32\n",
      "\tDIAGNOSIS_LEARN_RATE: 0.01\n",
      "\tDIM: 64\n",
      "\tDISC_FILTER_SIZE: 5\n",
      "\tINIT_KERNEL: <function variance_scaling_initializer.<locals>._initializer at 0x7fc2210c1730>\n",
      "\tLAMBDA: 10\n",
      "\tLAMBDA_2: 2.0\n",
      "\tOUTPUT_DIM: 121\n"
     ]
    }
   ],
   "source": [
    "import os\n",
    "import numpy as np\n",
    "from sklearn.metrics import accuracy_score, classification_report\n",
    "\n",
    "from alphai_watson.performance import GANPerformanceAnalysis\n",
    "from alphai_watson.transformer import NullTransformer\n",
    "from alphai_rickandmorty_oracle.datasource.kddcup99 import KDDCup99DataSource\n",
    "from alphai_rickandmorty_oracle.detective import RickAndMortyDetective\n",
    "from alphai_rickandmorty_oracle.model_kddcup99 import RickAndMorty"
   ]
  },
  {
   "cell_type": "markdown",
   "metadata": {},
   "source": [
    "## Define KDDCup99 Datasource"
   ]
  },
  {
   "cell_type": "code",
   "execution_count": 2,
   "metadata": {},
   "outputs": [
    {
     "name": "stderr",
     "output_type": "stream",
     "text": [
      "DEBUG:root:Start file parsing.\n",
      "DEBUG:root:Normal (97278, 122); Train (68095, 121); Test(29183, 121)\n",
      "DEBUG:root:Abnormal (396743, 121)\n",
      "DEBUG:root:End file parsing.\n"
     ]
    }
   ],
   "source": [
    "file_path = '../../tests/resources'\n",
    "data_filename = os.path.join(file_path, 'kddcup.data_10_percent_corrected')\n",
    "header_filename = os.path.join(file_path, 'kddcup.names')\n",
    "\n",
    "kdd_datasource = KDDCup99DataSource(source_file=data_filename,\n",
    "                                    header_file=header_filename,\n",
    "                                    transformer=NullTransformer(8, 8))"
   ]
  },
  {
   "cell_type": "code",
   "execution_count": 3,
   "metadata": {},
   "outputs": [],
   "source": [
    "data_normal_train = kdd_datasource.get_train_data('NORMAL')\n",
    "data_normal_test = kdd_datasource.get_train_data('NORMAL_TEST')\n",
    "data_abnormal_test = kdd_datasource.get_train_data('ABNORMAL_TEST')"
   ]
  },
  {
   "cell_type": "markdown",
   "metadata": {},
   "source": [
    "## Define Model"
   ]
  },
  {
   "cell_type": "code",
   "execution_count": 4,
   "metadata": {
    "scrolled": true
   },
   "outputs": [
    {
     "name": "stderr",
     "output_type": "stream",
     "text": [
      "DEBUG:root:Starting session\n",
      "DEBUG:root:Start training loop...\n",
      "INFO:root:Initialising Model\n",
      "INFO:root:Training iteration 0 of 3000\n",
      "DEBUG:matplotlib.font_manager:findfont: Matching :family=sans-serif:style=normal:variant=normal:weight=normal:stretch=normal:size=10.0 to DejaVu Sans ('/opt/anaconda/envs/ai/lib/python3.6/site-packages/matplotlib/mpl-data/fonts/ttf/DejaVuSans.ttf') with score of 0.050000\n"
     ]
    },
    {
     "name": "stdout",
     "output_type": "stream",
     "text": [
      "iter 0\ttrain disc cost\t1.4071215391159058\ttime\t0.247755765914917\n",
      "iter 1\ttrain gen cost\t0.6588791608810425\ttrain disc cost\t1.3958030939102173\ttime\t0.09719562530517578\n",
      "iter 2\ttrain gen cost\t0.6646692752838135\ttrain disc cost\t1.3857131004333496\ttime\t0.06753754615783691\n",
      "iter 3\ttrain gen cost\t0.6699368953704834\ttrain disc cost\t1.377500295639038\ttime\t0.06844258308410645\n",
      "iter 4\ttrain gen cost\t0.674412727355957\ttrain disc cost\t1.3695532083511353\ttime\t0.06746673583984375\n"
     ]
    },
    {
     "name": "stderr",
     "output_type": "stream",
     "text": [
      "INFO:root:Saving fake samples to png.\n",
      "INFO:root:Training iteration 100 of 3000\n"
     ]
    },
    {
     "name": "stdout",
     "output_type": "stream",
     "text": [
      "iter 99\ttrain gen cost\t1.2602397203445435\ttrain disc cost\t0.7529851198196411\ttime\t0.06808638823659796\n"
     ]
    },
    {
     "name": "stderr",
     "output_type": "stream",
     "text": [
      "INFO:root:Saving fake samples to png.\n",
      "INFO:root:Training iteration 200 of 3000\n"
     ]
    },
    {
     "name": "stdout",
     "output_type": "stream",
     "text": [
      "iter 199\ttrain gen cost\t5.943995952606201\ttrain disc cost\t0.28247761726379395\ttime\t0.05816848278045654\n"
     ]
    },
    {
     "name": "stderr",
     "output_type": "stream",
     "text": [
      "INFO:root:Saving fake samples to png.\n",
      "INFO:root:Training iteration 300 of 3000\n"
     ]
    },
    {
     "name": "stdout",
     "output_type": "stream",
     "text": [
      "iter 299\ttrain gen cost\t7.217431545257568\ttrain disc cost\t0.2805635929107666\ttime\t0.061468570232391356\n"
     ]
    },
    {
     "name": "stderr",
     "output_type": "stream",
     "text": [
      "INFO:root:Saving fake samples to png.\n",
      "INFO:root:Training iteration 400 of 3000\n"
     ]
    },
    {
     "name": "stdout",
     "output_type": "stream",
     "text": [
      "iter 399\ttrain gen cost\t4.52791690826416\ttrain disc cost\t0.34277477860450745\ttime\t0.060043869018554685\n"
     ]
    },
    {
     "name": "stderr",
     "output_type": "stream",
     "text": [
      "INFO:root:Saving fake samples to png.\n",
      "INFO:root:Training iteration 500 of 3000\n"
     ]
    },
    {
     "name": "stdout",
     "output_type": "stream",
     "text": [
      "iter 499\ttrain gen cost\t2.278439998626709\ttrain disc cost\t0.4412485361099243\ttime\t0.05746912956237793\n"
     ]
    },
    {
     "name": "stderr",
     "output_type": "stream",
     "text": [
      "INFO:root:Saving fake samples to png.\n",
      "INFO:root:Training iteration 600 of 3000\n"
     ]
    },
    {
     "name": "stdout",
     "output_type": "stream",
     "text": [
      "iter 599\ttrain gen cost\t1.4501769542694092\ttrain disc cost\t0.9874557256698608\ttime\t0.05820643424987793\n"
     ]
    },
    {
     "name": "stderr",
     "output_type": "stream",
     "text": [
      "INFO:root:Saving fake samples to png.\n",
      "INFO:root:Training iteration 700 of 3000\n"
     ]
    },
    {
     "name": "stdout",
     "output_type": "stream",
     "text": [
      "iter 699\ttrain gen cost\t1.124018907546997\ttrain disc cost\t1.0553301572799683\ttime\t0.05476428508758545\n"
     ]
    },
    {
     "name": "stderr",
     "output_type": "stream",
     "text": [
      "INFO:root:Saving fake samples to png.\n",
      "INFO:root:Training iteration 800 of 3000\n"
     ]
    },
    {
     "name": "stdout",
     "output_type": "stream",
     "text": [
      "iter 799\ttrain gen cost\t1.3796292543411255\ttrain disc cost\t0.7455384135246277\ttime\t0.05985280752182007\n"
     ]
    },
    {
     "name": "stderr",
     "output_type": "stream",
     "text": [
      "INFO:root:Saving fake samples to png.\n",
      "INFO:root:Training iteration 900 of 3000\n"
     ]
    },
    {
     "name": "stdout",
     "output_type": "stream",
     "text": [
      "iter 899\ttrain gen cost\t1.1100599765777588\ttrain disc cost\t0.9758090376853943\ttime\t0.052684993743896485\n"
     ]
    },
    {
     "name": "stderr",
     "output_type": "stream",
     "text": [
      "INFO:root:Saving fake samples to png.\n",
      "INFO:root:Training iteration 1000 of 3000\n"
     ]
    },
    {
     "name": "stdout",
     "output_type": "stream",
     "text": [
      "iter 999\ttrain gen cost\t1.010939598083496\ttrain disc cost\t0.882219135761261\ttime\t0.06120589017868042\n"
     ]
    },
    {
     "name": "stderr",
     "output_type": "stream",
     "text": [
      "INFO:root:Saving fake samples to png.\n",
      "INFO:root:Training iteration 1100 of 3000\n"
     ]
    },
    {
     "name": "stdout",
     "output_type": "stream",
     "text": [
      "iter 1099\ttrain gen cost\t0.9261056780815125\ttrain disc cost\t1.1756350994110107\ttime\t0.05135472059249878\n"
     ]
    },
    {
     "name": "stderr",
     "output_type": "stream",
     "text": [
      "INFO:root:Saving fake samples to png.\n",
      "INFO:root:Training iteration 1200 of 3000\n"
     ]
    },
    {
     "name": "stdout",
     "output_type": "stream",
     "text": [
      "iter 1199\ttrain gen cost\t0.8139371275901794\ttrain disc cost\t1.1128382682800293\ttime\t0.06503406047821045\n"
     ]
    },
    {
     "name": "stderr",
     "output_type": "stream",
     "text": [
      "INFO:root:Saving fake samples to png.\n",
      "INFO:root:Training iteration 1300 of 3000\n"
     ]
    },
    {
     "name": "stdout",
     "output_type": "stream",
     "text": [
      "iter 1299\ttrain gen cost\t0.7896631360054016\ttrain disc cost\t1.020133376121521\ttime\t0.053377180099487304\n"
     ]
    },
    {
     "name": "stderr",
     "output_type": "stream",
     "text": [
      "INFO:root:Saving fake samples to png.\n",
      "INFO:root:Training iteration 1400 of 3000\n"
     ]
    },
    {
     "name": "stdout",
     "output_type": "stream",
     "text": [
      "iter 1399\ttrain gen cost\t0.7670508623123169\ttrain disc cost\t1.0484912395477295\ttime\t0.0625006914138794\n"
     ]
    },
    {
     "name": "stderr",
     "output_type": "stream",
     "text": [
      "INFO:root:Saving fake samples to png.\n",
      "INFO:root:Training iteration 1500 of 3000\n"
     ]
    },
    {
     "name": "stdout",
     "output_type": "stream",
     "text": [
      "iter 1499\ttrain gen cost\t0.7454116344451904\ttrain disc cost\t1.0302425622940063\ttime\t0.05068778991699219\n"
     ]
    },
    {
     "name": "stderr",
     "output_type": "stream",
     "text": [
      "INFO:root:Saving fake samples to png.\n",
      "INFO:root:Training iteration 1600 of 3000\n"
     ]
    },
    {
     "name": "stdout",
     "output_type": "stream",
     "text": [
      "iter 1599\ttrain gen cost\t0.816632091999054\ttrain disc cost\t1.0425776243209839\ttime\t0.06208821535110474\n"
     ]
    },
    {
     "name": "stderr",
     "output_type": "stream",
     "text": [
      "INFO:root:Saving fake samples to png.\n",
      "INFO:root:Training iteration 1700 of 3000\n"
     ]
    },
    {
     "name": "stdout",
     "output_type": "stream",
     "text": [
      "iter 1699\ttrain gen cost\t0.9019127488136292\ttrain disc cost\t1.0469155311584473\ttime\t0.05053019285202026\n"
     ]
    },
    {
     "name": "stderr",
     "output_type": "stream",
     "text": [
      "INFO:root:Saving fake samples to png.\n",
      "INFO:root:Training iteration 1800 of 3000\n"
     ]
    },
    {
     "name": "stdout",
     "output_type": "stream",
     "text": [
      "iter 1799\ttrain gen cost\t0.9431647658348083\ttrain disc cost\t1.0772778987884521\ttime\t0.06223613977432251\n"
     ]
    },
    {
     "name": "stderr",
     "output_type": "stream",
     "text": [
      "INFO:root:Saving fake samples to png.\n",
      "INFO:root:Training iteration 1900 of 3000\n"
     ]
    },
    {
     "name": "stdout",
     "output_type": "stream",
     "text": [
      "iter 1899\ttrain gen cost\t0.9380932450294495\ttrain disc cost\t1.0653858184814453\ttime\t0.053418161869049074\n"
     ]
    },
    {
     "name": "stderr",
     "output_type": "stream",
     "text": [
      "INFO:root:Saving fake samples to png.\n",
      "INFO:root:Training iteration 2000 of 3000\n"
     ]
    },
    {
     "name": "stdout",
     "output_type": "stream",
     "text": [
      "iter 1999\ttrain gen cost\t0.9487429857254028\ttrain disc cost\t1.0839864015579224\ttime\t0.05969647884368896\n"
     ]
    },
    {
     "name": "stderr",
     "output_type": "stream",
     "text": [
      "INFO:root:Saving fake samples to png.\n",
      "INFO:root:Training iteration 2100 of 3000\n"
     ]
    },
    {
     "name": "stdout",
     "output_type": "stream",
     "text": [
      "iter 2099\ttrain gen cost\t0.9222937226295471\ttrain disc cost\t1.058181881904602\ttime\t0.061387062072753906\n"
     ]
    },
    {
     "name": "stderr",
     "output_type": "stream",
     "text": [
      "INFO:root:Saving fake samples to png.\n",
      "INFO:root:Training iteration 2200 of 3000\n"
     ]
    },
    {
     "name": "stdout",
     "output_type": "stream",
     "text": [
      "iter 2199\ttrain gen cost\t0.9785505533218384\ttrain disc cost\t1.075264573097229\ttime\t0.057845098972320555\n"
     ]
    },
    {
     "name": "stderr",
     "output_type": "stream",
     "text": [
      "INFO:root:Saving fake samples to png.\n",
      "INFO:root:Training iteration 2300 of 3000\n"
     ]
    },
    {
     "name": "stdout",
     "output_type": "stream",
     "text": [
      "iter 2299\ttrain gen cost\t0.9717816710472107\ttrain disc cost\t1.0973656177520752\ttime\t0.05955288648605347\n"
     ]
    },
    {
     "name": "stderr",
     "output_type": "stream",
     "text": [
      "INFO:root:Saving fake samples to png.\n",
      "INFO:root:Training iteration 2400 of 3000\n"
     ]
    },
    {
     "name": "stdout",
     "output_type": "stream",
     "text": [
      "iter 2399\ttrain gen cost\t0.9702647924423218\ttrain disc cost\t1.0874359607696533\ttime\t0.05524017572402954\n"
     ]
    },
    {
     "name": "stderr",
     "output_type": "stream",
     "text": [
      "INFO:root:Saving fake samples to png.\n",
      "INFO:root:Training iteration 2500 of 3000\n"
     ]
    },
    {
     "name": "stdout",
     "output_type": "stream",
     "text": [
      "iter 2499\ttrain gen cost\t0.9653502702713013\ttrain disc cost\t1.0947058200836182\ttime\t0.060248329639434814\n"
     ]
    },
    {
     "name": "stderr",
     "output_type": "stream",
     "text": [
      "INFO:root:Saving fake samples to png.\n",
      "INFO:root:Training iteration 2600 of 3000\n"
     ]
    },
    {
     "name": "stdout",
     "output_type": "stream",
     "text": [
      "iter 2599\ttrain gen cost\t0.9564698934555054\ttrain disc cost\t1.1066787242889404\ttime\t0.053198204040527344\n"
     ]
    },
    {
     "name": "stderr",
     "output_type": "stream",
     "text": [
      "INFO:root:Saving fake samples to png.\n",
      "INFO:root:Training iteration 2700 of 3000\n"
     ]
    },
    {
     "name": "stdout",
     "output_type": "stream",
     "text": [
      "iter 2699\ttrain gen cost\t0.9452099800109863\ttrain disc cost\t1.1007076501846313\ttime\t0.0628880000114441\n"
     ]
    },
    {
     "name": "stderr",
     "output_type": "stream",
     "text": [
      "INFO:root:Saving fake samples to png.\n",
      "INFO:root:Training iteration 2800 of 3000\n"
     ]
    },
    {
     "name": "stdout",
     "output_type": "stream",
     "text": [
      "iter 2799\ttrain gen cost\t0.9468779563903809\ttrain disc cost\t1.0860507488250732\ttime\t0.05175078868865967\n"
     ]
    },
    {
     "name": "stderr",
     "output_type": "stream",
     "text": [
      "INFO:root:Saving fake samples to png.\n",
      "INFO:root:Training iteration 2900 of 3000\n"
     ]
    },
    {
     "name": "stdout",
     "output_type": "stream",
     "text": [
      "iter 2899\ttrain gen cost\t0.9473578929901123\ttrain disc cost\t1.0943915843963623\ttime\t0.06559078454971314\n"
     ]
    },
    {
     "name": "stderr",
     "output_type": "stream",
     "text": [
      "INFO:root:Saving fake samples to png.\n",
      "DEBUG:root:Training complete.\n"
     ]
    },
    {
     "name": "stdout",
     "output_type": "stream",
     "text": [
      "iter 2999\ttrain gen cost\t0.9460355639457703\ttrain disc cost\t1.0943360328674316\ttime\t0.053946518898010255\n"
     ]
    }
   ],
   "source": [
    "model_dir = './kddcup99_models'\n",
    "if not os.path.exists(model_dir):\n",
    "    os.makedirs(model_dir)\n",
    "\n",
    "batch_size = 64\n",
    "output_dimensions = 121\n",
    "train_iters = 3000\n",
    "plot_save_path = model_dir\n",
    "\n",
    "\n",
    "model = RickAndMorty(batch_size=batch_size, \n",
    "                     output_dimensions=output_dimensions, \n",
    "                     train_iters=train_iters,\n",
    "                     plot_save_path=plot_save_path)\n",
    "\n",
    "detective = RickAndMortyDetective(model_configuration={\n",
    "    'model': model,\n",
    "    'batch_size': batch_size,\n",
    "    'output_dimensions': output_dimensions,\n",
    "    'train_iters': train_iters,\n",
    "    'save_path' : '{}/KDDCup99-model'.format(model_dir),\n",
    "    'plot_save_path': plot_save_path\n",
    "    \n",
    "})\n",
    "\n",
    "detective.train(data_normal_train)"
   ]
  },
  {
   "cell_type": "markdown",
   "metadata": {},
   "source": [
    "## Evaluate results\n",
    "***"
   ]
  },
  {
   "cell_type": "markdown",
   "metadata": {},
   "source": [
    "### Collate ground truth"
   ]
  },
  {
   "cell_type": "code",
   "execution_count": 5,
   "metadata": {},
   "outputs": [],
   "source": [
    "n1 = np.ones(len(data_normal_test.data))\n",
    "n2 = np.zeros(len(data_abnormal_test.data))\n",
    "\n",
    "ground_truth = np.hstack((n1, n2))"
   ]
  },
  {
   "cell_type": "markdown",
   "metadata": {},
   "source": [
    "### Collate detection results"
   ]
  },
  {
   "cell_type": "code",
   "execution_count": 6,
   "metadata": {},
   "outputs": [
    {
     "name": "stderr",
     "output_type": "stream",
     "text": [
      "INFO:root:Running detector on <alphai_watson.datasource.Sample object at 0x7fc1daae51d0>\n",
      "INFO:root:Detection completed in 0.46583758294582367\n",
      "INFO:root:Running detector on <alphai_watson.datasource.Sample object at 0x7fc1daae5278>\n",
      "INFO:root:Detection completed in 5.483396312221885\n"
     ]
    }
   ],
   "source": [
    "test_results_normal = detective.detect(data_normal_test).data \n",
    "test_results_abnormal = detective.detect(data_abnormal_test).data \n",
    "\n",
    "predictions = np.hstack((test_results_normal, test_results_abnormal))"
   ]
  },
  {
   "cell_type": "markdown",
   "metadata": {},
   "source": [
    "### Calculate ROC Score"
   ]
  },
  {
   "cell_type": "code",
   "execution_count": 7,
   "metadata": {},
   "outputs": [
    {
     "name": "stdout",
     "output_type": "stream",
     "text": [
      "ROC Score: 0.734019941461691\n"
     ]
    }
   ],
   "source": [
    "roc_score = GANPerformanceAnalysis({}).analyse(\n",
    "  detection_result=predictions,\n",
    "  expected_truth=ground_truth\n",
    ")\n",
    "\n",
    "print('ROC Score: {}'.format(roc_score))"
   ]
  },
  {
   "cell_type": "markdown",
   "metadata": {},
   "source": [
    "### Calculate training accuracy"
   ]
  },
  {
   "cell_type": "code",
   "execution_count": 8,
   "metadata": {
    "scrolled": true
   },
   "outputs": [],
   "source": [
    "def model_accuracy(data, status, threshold=None):\n",
    "    results = detective.detect(data).data \n",
    "    if threshold is None:\n",
    "        threshold = np.median(results)\n",
    "    ground_truth = [status] * len(results)\n",
    "    prediction = [1 if x >= threshold else 0 for x in results]\n",
    "    print('Accuracy: {0:.2f}%'.format(100*accuracy_score(ground_truth, prediction)))\n",
    "    return threshold"
   ]
  },
  {
   "cell_type": "code",
   "execution_count": 9,
   "metadata": {},
   "outputs": [
    {
     "name": "stderr",
     "output_type": "stream",
     "text": [
      "INFO:root:Running detector on <alphai_watson.datasource.Sample object at 0x7fc1daae5208>\n",
      "INFO:root:Detection completed in 0.9801656883209944\n"
     ]
    },
    {
     "name": "stdout",
     "output_type": "stream",
     "text": [
      "Accuracy: 50.00%\n"
     ]
    }
   ],
   "source": [
    "threshold = model_accuracy(data_normal_train, 1)"
   ]
  },
  {
   "cell_type": "markdown",
   "metadata": {},
   "source": [
    "### Generate classification report"
   ]
  },
  {
   "cell_type": "code",
   "execution_count": 10,
   "metadata": {},
   "outputs": [
    {
     "name": "stdout",
     "output_type": "stream",
     "text": [
      "              precision    recall  f1-score   support\n",
      "\n",
      "    ABNORMAL       0.96      0.93      0.95    396743\n",
      "      NORMAL       0.34      0.50      0.41     29183\n",
      "\n",
      "   micro avg       0.90      0.90      0.90    425926\n",
      "   macro avg       0.65      0.72      0.68    425926\n",
      "weighted avg       0.92      0.90      0.91    425926\n",
      "\n"
     ]
    }
   ],
   "source": [
    "class_predictions = [1 if x >= threshold else 0 for x in predictions]\n",
    "\n",
    "target_names = ['ABNORMAL', 'NORMAL']\n",
    "print(classification_report(ground_truth, class_predictions, target_names=target_names))"
   ]
  },
  {
   "cell_type": "code",
   "execution_count": null,
   "metadata": {},
   "outputs": [],
   "source": []
  }
 ],
 "metadata": {
  "kernelspec": {
   "display_name": "Python 3",
   "language": "python",
   "name": "python3"
  },
  "language_info": {
   "codemirror_mode": {
    "name": "ipython",
    "version": 3
   },
   "file_extension": ".py",
   "mimetype": "text/x-python",
   "name": "python",
   "nbconvert_exporter": "python",
   "pygments_lexer": "ipython3",
   "version": "3.6.2"
  }
 },
 "nbformat": 4,
 "nbformat_minor": 2
}
